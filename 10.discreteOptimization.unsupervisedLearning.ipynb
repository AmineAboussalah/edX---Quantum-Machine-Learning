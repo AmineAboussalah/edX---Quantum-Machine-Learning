{
 "cells": [
  {
   "cell_type": "code",
   "execution_count": 1,
   "metadata": {},
   "outputs": [],
   "source": [
    "import numpy as np\n",
    "import matplotlib.pyplot as plt\n",
    "from mpl_toolkits.mplot3d import Axes3D\n",
    "from sklearn.metrics import pairwise_distances"
   ]
  },
  {
   "cell_type": "markdown",
   "metadata": {},
   "source": [
    "Unsupervised learning means a lack of labels: we are looking for structure in the data, without having an *a priori* intuition what that structure might be. A great example is clustering, where the goal is to identify instances that clump together in some high-dimensional space. Unsupervised learning in general is a harder problem. Deep learning revolutionized supervised learning and it had made significant advances in unsupervised learning, but there remains plenty of room for improvement. In this notebook, **we look at how we can map an unsupervised learning problem to graph optimization, which in turn we can solve on a quantum computer.**\n",
    "\n",
    "# Mapping clustering to discrete optimization\n",
    "\n",
    "Assume that we have $N$ points $\\{x_i \\sim \\mathbb{R}^d \\}_{i=1}^N$ lying in some high-dimensional space. How do we tell which ones are close to one another and which ones are distant? To get some intuition, let's generate a simple dataset with two distinct classes. The first five instances will belong to class 1, and the second five to class 2:"
   ]
  },
  {
   "cell_type": "code",
   "execution_count": 2,
   "metadata": {},
   "outputs": [
    {
     "data": {
      "text/plain": [
       "array([[0.18670249, 0.37115287, 0.36175501],\n",
       "       [0.09696249, 0.02401114, 0.1516867 ],\n",
       "       [1.03391961, 0.33842957, 0.12567988],\n",
       "       [0.95329643, 0.4687822 , 0.35660596]])"
      ]
     },
     "execution_count": 2,
     "metadata": {},
     "output_type": "execute_result"
    }
   ],
   "source": [
    "n_instances = 4\n",
    "\n",
    "n_perClass = n_instances // 2\n",
    "\n",
    "# define 2 classes with a constant shift\n",
    "\n",
    "class_1 = np.random.rand(n_perClass, 3) / n_perClass\n",
    "class_2 = (0.6, 0.1, 0.05) + np.random.rand(n_perClass, 3) / n_perClass\n",
    "\n",
    "data = np.concatenate((class_1, class_2))\n",
    "\n",
    "data"
   ]
  },
  {
   "cell_type": "code",
   "execution_count": 3,
   "metadata": {},
   "outputs": [
    {
     "data": {
      "text/plain": [
       "<mpl_toolkits.mplot3d.art3d.Path3DCollection at 0x12403c358>"
      ]
     },
     "execution_count": 3,
     "metadata": {},
     "output_type": "execute_result"
    },
    {
     "data": {
      "image/png": "[encoded data removed]",
      "text/plain": [
       "<Figure size 432x288 with 1 Axes>"
      ]
     },
     "metadata": {},
     "output_type": "display_data"
    }
   ],
   "source": [
    "colors = [\"red\"] * n_perClass + [\"green\"] * n_perClass\n",
    "fig = plt.figure()\n",
    "ax = fig.add_subplot(111, projection='3d', xticks=[], yticks=[], zticks=[])\n",
    "ax.scatter(data[:, 0], data[:, 1], data[:, 2], c=colors)"
   ]
  },
  {
   "cell_type": "markdown",
   "metadata": {},
   "source": [
    "The high-dimensional space is endowed with some measure of distance, the Euclidean distance being the simplest case. We can calculate all pairwise distances between the data points:"
   ]
  },
  {
   "cell_type": "code",
   "execution_count": 4,
   "metadata": {},
   "outputs": [
    {
     "data": {
      "text/plain": [
       "array([[0.        , 0.41555907, 0.88010178, 0.77280287],\n",
       "       [0.41555907, 0.        , 0.98864754, 0.98646897],\n",
       "       [0.88010178, 0.98864754, 0.        , 0.27716198],\n",
       "       [0.77280287, 0.98646897, 0.27716198, 0.        ]])"
      ]
     },
     "execution_count": 4,
     "metadata": {},
     "output_type": "execute_result"
    }
   ],
   "source": [
    "w = pairwise_distances(data)\n",
    "w"
   ]
  },
  {
   "cell_type": "markdown",
   "metadata": {},
   "source": [
    "This matrix is sometimes called the Gram matrix (sometimes also the kernel matrix). It can be thought of as the **weighted adjacency matrix of a graph**: nodes represent data instances and distances are encoded as a property of the edges that connect them. In general, this is a dense graph with many edges -- sparsity can be improved by a distance function that gets exponentially smaller.\n",
    "\n",
    "- Some background about graphs...  *In the most common sense of the term, a graph is an ordered pair $G = (V, E)$ comprising a set $V$ of vertices (also called nodes or points) together with a set $E$ of edges (also called links or lines), which are 2-element subsets of $V$ (i.e. an edge is associated with two vertices and that association takes the form of the unordered pair comprising those two vertices).  A cut is a set of edges that separate the vertices $V$ into two disjoint subsets of vertices $V_1$ and $V_2$.*\n",
    "\n",
    "\n",
    "**What can we do with this graph to find the clusters?** We could look for the **max-cut**, that is, the collection of edges that would split the graph in exactly two if removed, while maximizing the total weight of these edges [[1](#1)]. This is a well-known NP-hard problem, but it also **very naturally maps to an Ising model**.\n",
    "\n",
    "Let us assume that we defined a cut splitting the graph into two subset of nodes $V_1$ and $V_2$.  The spin variables $\\sigma_i \\in \\{-1, +1\\}$ take on value $\\sigma_i = +1$ if a data instance is in cluster 1 (nodes $V_1$ in the graph) and $\\sigma_i = -1$ if the data instance is in cluster 2 (nodes $V_2$ in the graph). The cost of such a cut is therefore given as the sums of the weights **going accross the cut**. In clustering, the main assumption is that **distant points belong to different clusters; hence maximizing the overall sum of all weights (distances) between nodes with different labels represents a natural clustering algorithm**.   Denoting the cross-class edges $\\delta$ as the intersection set of $V_1$ and $V_2$, the cost function is given by:\n",
    "\n",
    "$$\n",
    "\\text{cut}(V_1, V_2) = \\sum_{i\\in V_1, j\\in V_2} w_{ij} = \\frac{1}{2}\\sum_{(i, j) \\in \\delta } w_{ij}\n",
    "$$\n",
    "\n",
    "where we take advantage of the symmetry of the adjacency matrix.  Transforming the sum over the cut to a sum over all vertices in $V$, the cost function can be expressed as:\n",
    "\n",
    "$$\n",
    "\\text{cut}(V_1, V_2) = \\frac{1}{4} \\sum_{i, j\\in V} w_{ij} \\big( 1- \\sigma_i \\sigma_j \\big)\n",
    "$$\n",
    "\n",
    "\n",
    "By taking the negative of this, we can directly solve the problem by a quantum optimizer.\n",
    "\n",
    "# Solving the max-cut problem by QAOA\n",
    "\n",
    "Most quantum computing frameworks have convenience functions defined for common graph optimization algorithms, and max-cut is a staple. This reduces our task to importing the relevant functions:"
   ]
  },
  {
   "cell_type": "code",
   "execution_count": 6,
   "metadata": {},
   "outputs": [],
   "source": [
    "from qiskit_aqua import get_aer_backend, QuantumInstance\n",
    "from qiskit_aqua.algorithms import QAOA\n",
    "from qiskit_aqua.components.optimizers import COBYLA\n",
    "from qiskit_aqua.translators.ising import maxcut"
   ]
  },
  {
   "cell_type": "markdown",
   "metadata": {},
   "source": [
    "Setting $p=1$ in the QAOA algorithm, we can initialize it with the max-cut problem."
   ]
  },
  {
   "cell_type": "code",
   "execution_count": 7,
   "metadata": {},
   "outputs": [],
   "source": [
    "qubit_operators, offset = maxcut.get_maxcut_qubitops(w)\n",
    "qaoa = QAOA(qubit_operators, COBYLA(), p=1, operator_mode='matrix')"
   ]
  },
  {
   "cell_type": "markdown",
   "metadata": {},
   "source": [
    "Here the choice of the classical optimizer `COBYLA` was arbitrary. Let us run this and analyze the solution. \n",
    "\n",
    "(Note that ``BasicAer`` is a remarkably inefficient simulator so this step can take very long.  This is why we consider only 4 data instances.)"
   ]
  },
  {
   "cell_type": "code",
   "execution_count": 8,
   "metadata": {},
   "outputs": [],
   "source": [
    "quantum_instance = QuantumInstance(get_aer_backend('statevector_simulator'), shots=100)\n",
    "result = qaoa.run(quantum_instance)"
   ]
  },
  {
   "cell_type": "code",
   "execution_count": 9,
   "metadata": {},
   "outputs": [
    {
     "name": "stdout",
     "output_type": "stream",
     "text": [
      "solution: [0. 0. 1. 1.]\n"
     ]
    }
   ],
   "source": [
    "x = maxcut.sample_most_likely(result['eigvecs'][0])\n",
    "graph_solution = maxcut.get_graph_solution(x)\n",
    "print('solution:', maxcut.get_graph_solution(x))"
   ]
  },
  {
   "cell_type": "markdown",
   "metadata": {},
   "source": [
    "Looking at the solution, the cut matches the clustering structure."
   ]
  },
  {
   "cell_type": "markdown",
   "metadata": {},
   "source": [
    "# Solving the max-cut problem by annealing\n",
    "\n",
    "Naturally, the same problem can be solved on an annealer. Our only task is to translate the couplings and the on-site fields to match the programming interface:"
   ]
  },
  {
   "cell_type": "code",
   "execution_count": 10,
   "metadata": {},
   "outputs": [
    {
     "name": "stdout",
     "output_type": "stream",
     "text": [
      "Energy of samples:\n",
      "Energy: -2.935300099242103 Sample: {0: 1, 1: 1, 2: -1, 3: -1}\n",
      "Energy: -2.935300099242103 Sample: {0: -1, 1: -1, 2: 1, 3: 1}\n",
      "Energy: -2.935300099242103 Sample: {0: 1, 1: 1, 2: -1, 3: -1}\n",
      "Energy: -2.935300099242103 Sample: {0: -1, 1: -1, 2: 1, 3: 1}\n",
      "Energy: -2.935300099242103 Sample: {0: 1, 1: 1, 2: -1, 3: -1}\n",
      "Energy: -2.935300099242103 Sample: {0: 1, 1: 1, 2: -1, 3: -1}\n",
      "Energy: -2.935300099242103 Sample: {0: -1, 1: -1, 2: 1, 3: 1}\n",
      "Energy: -2.935300099242103 Sample: {0: -1, 1: -1, 2: 1, 3: 1}\n",
      "Energy: -2.935300099242103 Sample: {0: 1, 1: 1, 2: -1, 3: -1}\n",
      "Energy: -2.935300099242103 Sample: {0: 1, 1: 1, 2: -1, 3: -1}\n"
     ]
    }
   ],
   "source": [
    "import dimod\n",
    "\n",
    "num_reads = 10\n",
    "\n",
    "h = {_: 0 for _ in range(n_instances)}\n",
    "J = {(i, j): w[i, j] for i in range(n_instances) for j in range(i+1, n_instances)}\n",
    "\n",
    "model = dimod.BinaryQuadraticModel(h, J, 0.0, dimod.SPIN)\n",
    "sampler = dimod.SimulatedAnnealingSampler()\n",
    "response = sampler.sample(model, num_reads = num_reads)\n",
    "\n",
    "responseData = list(response.data())\n",
    "\n",
    "print(\"Energy of samples:\")\n",
    "for solution in responseData:\n",
    "    print(\"Energy:\", solution.energy, \"Sample:\", solution.sample)"
   ]
  },
  {
   "cell_type": "markdown",
   "metadata": {},
   "source": [
    "Once again, we can see that the ground state corresponds to the expected spin state."
   ]
  },
  {
   "cell_type": "code",
   "execution_count": 11,
   "metadata": {},
   "outputs": [
    {
     "name": "stdout",
     "output_type": "stream",
     "text": [
      "-2.935300099242103 -2.935300099242103 0.0\n",
      "-2.935300099242103 -2.935300099242103 0.0\n",
      "-2.935300099242103 -2.935300099242103 0.0\n",
      "-2.935300099242103 -2.935300099242103 0.0\n",
      "-2.935300099242103 -2.935300099242103 0.0\n",
      "-2.935300099242103 -2.935300099242103 0.0\n",
      "-2.935300099242103 -2.935300099242103 0.0\n",
      "-2.935300099242103 -2.935300099242103 0.0\n",
      "-2.935300099242103 -2.935300099242103 0.0\n",
      "-2.935300099242103 -2.935300099242103 0.0\n"
     ]
    },
    {
     "data": {
      "text/plain": [
       "[None, None, None, None, None, None, None, None, None, None]"
      ]
     },
     "execution_count": 11,
     "metadata": {},
     "output_type": "execute_result"
    }
   ],
   "source": [
    "def verifEnergy(responseData, responseID, couplingConstants):\n",
    "    resSample, resEnergy = responseData[responseID].sample, responseData[responseID].energy\n",
    "    myEnergy = sum([couplingConstants[i, j] * resSample[i] * resSample[j] for i, j in couplingConstants])\n",
    "    print(myEnergy, resEnergy, myEnergy - resEnergy)\n",
    "    \n",
    "[verifEnergy(responseData, _, J) for _ in range(num_reads)]"
   ]
  }
 ],
 "metadata": {
  "kernelspec": {
   "display_name": "Python 3",
   "language": "python",
   "name": "python3"
  },
  "language_info": {
   "codemirror_mode": {
    "name": "ipython",
    "version": 3
   },
   "file_extension": ".py",
   "mimetype": "text/x-python",
   "name": "python",
   "nbconvert_exporter": "python",
   "pygments_lexer": "ipython3",
   "version": "3.6.5"
  }
 },
 "nbformat": 4,
 "nbformat_minor": 2
}
