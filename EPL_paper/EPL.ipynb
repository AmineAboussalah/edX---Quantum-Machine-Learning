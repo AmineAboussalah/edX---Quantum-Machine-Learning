{
 "cells": [
  {
   "cell_type": "code",
   "execution_count": 1,
   "metadata": {},
   "outputs": [
    {
     "name": "stderr",
     "output_type": "stream",
     "text": [
      "/Users/i335439/Desktop/QML/venv/lib/python3.6/site-packages/marshmallow/schema.py:364: ChangedInMarshmallow3Warning: strict=False is not recommended. In marshmallow 3.0, schemas will always be strict. See https://marshmallow.readthedocs.io/en/latest/upgrading.html#schemas-are-always-strict\n",
      "  ChangedInMarshmallow3Warning\n"
     ]
    }
   ],
   "source": [
    "from qiskit import QuantumCircuit, QuantumRegister, ClassicalRegister, execute, BasicAer\n",
    "from qiskit.tools.visualization import circuit_drawer\n",
    "import numpy as np\n",
    "import pandas as pd\n",
    "pd.options.display.max_rows = 200\n",
    "import matplotlib.pyplot as plt\n",
    "from collections import OrderedDict\n",
    "from sklearn import datasets\n",
    "from sklearn.preprocessing import normalize, StandardScaler"
   ]
  },
  {
   "cell_type": "markdown",
   "metadata": {},
   "source": [
    "## Getting the Iris dataset"
   ]
  },
  {
   "cell_type": "code",
   "execution_count": 2,
   "metadata": {},
   "outputs": [],
   "source": [
    "iris = datasets.load_iris()"
   ]
  },
  {
   "cell_type": "code",
   "execution_count": 3,
   "metadata": {},
   "outputs": [],
   "source": [
    "irisData = pd.DataFrame({_[0]: iris.data[:, _[1]] for _ in zip(iris.feature_names, range(len(iris.feature_names)))})\n",
    "labelNames = {_[0]: _[1] for _ in zip(range(len(iris.target_names)), iris.target_names)}\n",
    "irisData['label'] = [labelNames[_] for _ in iris.target]"
   ]
  },
  {
   "cell_type": "code",
   "execution_count": 15,
   "metadata": {},
   "outputs": [],
   "source": [
    "setosa = irisData[irisData['label'] == 'setosa']\n",
    "versicolor = irisData[irisData['label'] == 'versicolor']\n",
    "virginica = irisData[irisData['label'] == 'virginica']"
   ]
  },
  {
   "cell_type": "code",
   "execution_count": 16,
   "metadata": {},
   "outputs": [
    {
     "data": {
      "image/png": "[encoded data removed]",
      "text/plain": [
       "<Figure size 432x288 with 1 Axes>"
      ]
     },
     "metadata": {
      "needs_background": "light"
     },
     "output_type": "display_data"
    }
   ],
   "source": [
    "fig, ax = plt.subplots()\n",
    "ax.scatter(versicolor['sepal length (cm)'], versicolor['sepal width (cm)'], color='b')\n",
    "ax.scatter(setosa['sepal length (cm)'], setosa['sepal width (cm)'], color='r')\n",
    "ax.set_xlim([-1, 8]); ax.set_ylim([-1, 5]); ax.set_aspect('equal')"
   ]
  },
  {
   "cell_type": "code",
   "execution_count": 17,
   "metadata": {},
   "outputs": [],
   "source": [
    "selectedData = irisData[irisData['label'].isin(['versicolor', 'setosa'])]\n",
    "selectedData = selectedData[['sepal length (cm)', 'sepal width (cm)', 'label']]\n",
    "\n",
    "scaler = StandardScaler().fit(selectedData[['sepal length (cm)', 'sepal width (cm)']])\n",
    "normalizedData = scaler.transform(selectedData[['sepal length (cm)', 'sepal width (cm)']])\n",
    "normalizedData = normalize(normalizedData)\n",
    "\n",
    "normalizedData = pd.DataFrame({'sepal length (cm)': normalizedData[:, 0],\n",
    "                               'sepal width (cm)': normalizedData[:, 1],\n",
    "                               'label': selectedData['label']})"
   ]
  },
  {
   "cell_type": "code",
   "execution_count": 18,
   "metadata": {},
   "outputs": [],
   "source": [
    "normVersicolor = normalizedData[normalizedData['label'] == 'versicolor']\n",
    "normSetosa = normalizedData[normalizedData['label'] == 'setosa']"
   ]
  },
  {
   "cell_type": "code",
   "execution_count": 20,
   "metadata": {},
   "outputs": [
    {
     "data": {
      "image/png": "[encoded data removed]",
      "text/plain": [
       "<Figure size 432x288 with 1 Axes>"
      ]
     },
     "metadata": {
      "needs_background": "light"
     },
     "output_type": "display_data"
    }
   ],
   "source": [
    "fig, ax = plt.subplots()\n",
    "ax.scatter(normVersicolor['sepal length (cm)'], normVersicolor['sepal width (cm)'], color='b')\n",
    "ax.scatter(normSetosa['sepal length (cm)'], normSetosa['sepal width (cm)'], color='r')\n",
    "ax.set_xlim([-1.3, 1.3]); ax.set_ylim([-1.3, 1.3]); ax.set_aspect('equal')"
   ]
  },
  {
   "cell_type": "markdown",
   "metadata": {},
   "source": [
    "## Samples selected in the EPL article"
   ]
  },
  {
   "cell_type": "code",
   "execution_count": 30,
   "metadata": {},
   "outputs": [
    {
     "data": {
      "text/html": [
       "<div>\n",
       "<style scoped>\n",
       "    .dataframe tbody tr th:only-of-type {\n",
       "        vertical-align: middle;\n",
       "    }\n",
       "\n",
       "    .dataframe tbody tr th {\n",
       "        vertical-align: top;\n",
       "    }\n",
       "\n",
       "    .dataframe thead th {\n",
       "        text-align: right;\n",
       "    }\n",
       "</style>\n",
       "<table border=\"1\" class=\"dataframe\">\n",
       "  <thead>\n",
       "    <tr style=\"text-align: right;\">\n",
       "      <th></th>\n",
       "      <th>sepal length (cm)</th>\n",
       "      <th>sepal width (cm)</th>\n",
       "      <th>label</th>\n",
       "    </tr>\n",
       "  </thead>\n",
       "  <tbody>\n",
       "    <tr>\n",
       "      <th>33</th>\n",
       "      <td>0.019647</td>\n",
       "      <td>0.999807</td>\n",
       "      <td>setosa</td>\n",
       "    </tr>\n",
       "    <tr>\n",
       "      <th>85</th>\n",
       "      <td>0.795134</td>\n",
       "      <td>0.606434</td>\n",
       "      <td>versicolor</td>\n",
       "    </tr>\n",
       "    <tr>\n",
       "      <th>28</th>\n",
       "      <td>-0.557585</td>\n",
       "      <td>0.830120</td>\n",
       "      <td>setosa</td>\n",
       "    </tr>\n",
       "    <tr>\n",
       "      <th>36</th>\n",
       "      <td>0.053875</td>\n",
       "      <td>0.998548</td>\n",
       "      <td>setosa</td>\n",
       "    </tr>\n",
       "    <tr>\n",
       "      <th>55</th>\n",
       "      <td>0.496113</td>\n",
       "      <td>-0.868258</td>\n",
       "      <td>versicolor</td>\n",
       "    </tr>\n",
       "  </tbody>\n",
       "</table>\n",
       "</div>"
      ],
      "text/plain": [
       "    sepal length (cm)  sepal width (cm)       label\n",
       "33           0.019647          0.999807      setosa\n",
       "85           0.795134          0.606434  versicolor\n",
       "28          -0.557585          0.830120      setosa\n",
       "36           0.053875          0.998548      setosa\n",
       "55           0.496113         -0.868258  versicolor"
      ]
     },
     "execution_count": 30,
     "metadata": {},
     "output_type": "execute_result"
    }
   ],
   "source": [
    "normalizedData.iloc[[33, 85, 28, 36, 55]]"
   ]
  },
  {
   "cell_type": "markdown",
   "metadata": {},
   "source": [
    "# Nearset neighbor classifier\n",
    "\n",
    "We are using 2 training vectors:\n",
    "$$\n",
    "\\begin{align}\n",
    "x_0 = (0.019647, 0.999807) \\quad & y_0 = 0 \\quad (\\text{setosa}) \\\\\n",
    "x_1 = (0.795134, 0.606434) \\quad & y_1 = 1 \\quad (\\text{versicolor})\n",
    "\\end{align}\n",
    "$$\n",
    "\n",
    "and we look for (euclidean distance) nearest neighbor to a new vector $x^\\prime$."
   ]
  },
  {
   "cell_type": "code",
   "execution_count": 61,
   "metadata": {},
   "outputs": [],
   "source": [
    "#x0 = [0.0, 1.0]                # class 0\n",
    "\n",
    "x0 = [0.019647, 0.999807]      # class 0\n",
    "x1 = [0.788610, 0.614894]      # class 1\n",
    "\n",
    "#xprime = [-0.549104, 0.835754] # class 0\n",
    "#xprime = [-0.557585, 0.830120]\n",
    "\n",
    "xprime = [0.496113, -0.868258]\n",
    "\n",
    "# xprime2 = [0.052917, 0.998599] # class 0\n",
    "# xprime3 = [0.612361, -0.790579] # class 1 (sample 87)\n",
    "# xprime4 = [0.036196, -0.999345] # class 1 (sample 89)\n",
    "# xprime5 = [-0.169638, 0.985506] # class 0 (sample 20)"
   ]
  },
  {
   "cell_type": "markdown",
   "metadata": {},
   "source": [
    "## Initialize the quantum circuit"
   ]
  },
  {
   "cell_type": "code",
   "execution_count": 62,
   "metadata": {},
   "outputs": [],
   "source": [
    "numbQubits = 4\n",
    "q, c = QuantumRegister(numbQubits), ClassicalRegister(numbQubits)\n",
    "\n",
    "\n",
    "shots, timeout = 5000, 10000\n",
    "\n",
    "circuit = QuantumCircuit(q, c)\n",
    "\n",
    "thetaPrime = 2 * np.arctan2(xprime[1], xprime[0])\n",
    "# thetaPrime = 2 * np.arctan2(xprime2[1], xprime2[0])\n",
    "# thetaPrime = 2 * np.arctan2(xprime3[1], xprime3[0])\n",
    "# thetaPrime = 2 * np.arctan2(xprime4[1], xprime4[0])\n",
    "# thetaPrime = 2 * np.arctan2(xprime5[1], xprime5[0])\n",
    "#thetaPrime_finger = 3.0357101997648965 / 2\n",
    "\n",
    "theta1 = np.arctan2(x1[1], x1[0])"
   ]
  },
  {
   "cell_type": "markdown",
   "metadata": {},
   "source": [
    "## QML circuit"
   ]
  },
  {
   "cell_type": "code",
   "execution_count": 63,
   "metadata": {},
   "outputs": [
    {
     "data": {
      "text/plain": [
       "<qiskit.circuit.instructionset.InstructionSet at 0x128707438>"
      ]
     },
     "execution_count": 63,
     "metadata": {},
     "output_type": "execute_result"
    }
   ],
   "source": [
    "\n",
    "circuit.h(q[0])\n",
    "circuit.h(q[1])\n",
    "\n",
    "circuit.cu3(thetaPrime, 0, 0, q[0], q[2])\n",
    "\n",
    "circuit.x(q[0])\n",
    "circuit.ccx(q[0], q[1], q[2])\n",
    "circuit.x(q[1])\n",
    "circuit.ccx(q[0], q[1], q[2])\n",
    "\n",
    "circuit.cu3(- theta1, 0, 0, q[1], q[2])\n",
    "circuit.ccx(q[0], q[1], q[2])\n",
    "circuit.cu3(theta1, 0, 0, q[1], q[2])\n",
    "\n",
    "circuit.cx(q[1], q[3])\n",
    "\n",
    "circuit.h(q[0])\n",
    "\n",
    "circuit.measure(q, c)\n",
    "\n"
   ]
  },
  {
   "cell_type": "code",
   "execution_count": 64,
   "metadata": {},
   "outputs": [
    {
     "name": "stderr",
     "output_type": "stream",
     "text": [
      "/Users/i335439/Desktop/QML/venv/lib/python3.6/site-packages/qiskit/tools/visualization/_circuit_visualization.py:206: DeprecationWarning: The current behavior for the default output will change in a future release. Instead of trying latex and falling back to mpl on failure it will just use \"text\" by default\n",
      "  '\"text\" by default', DeprecationWarning)\n",
      "WARNING Unable to compile latex. The output from the pdflatex command can be found in latex_error.log\n"
     ]
    },
    {
     "data": {
      "image/png": "[encoded data removed]",
      "text/plain": [
       "<Figure size 1264.2x499.66 with 1 Axes>"
      ]
     },
     "execution_count": 64,
     "metadata": {},
     "output_type": "execute_result"
    }
   ],
   "source": [
    "circuit_drawer(circuit)"
   ]
  },
  {
   "cell_type": "code",
   "execution_count": 65,
   "metadata": {},
   "outputs": [
    {
     "name": "stdout",
     "output_type": "stream",
     "text": [
      "OrderedDict([('0000', 0.031), ('0001', 0.0306), ('0100', 0.0024), ('0101', 0.431), ('1010', 0.2054), ('1011', 0.0102), ('1110', 0.0062), ('1111', 0.2832)])\n"
     ]
    }
   ],
   "source": [
    "qmlResult = execute(circuit, backend = BasicAer.get_backend('qasm_simulator'), shots = shots)\n",
    "qmlCounts = qmlResult.result().get_counts(circuit)\n",
    "\n",
    "for _ in qmlCounts:\n",
    "    qmlCounts[_] = qmlCounts[_] / shots\n",
    "\n",
    "qmlProbabilities = OrderedDict(sorted(qmlCounts.items()))\n",
    "\n",
    "print(qmlProbabilities)"
   ]
  },
  {
   "cell_type": "code",
   "execution_count": null,
   "metadata": {},
   "outputs": [],
   "source": []
  },
  {
   "cell_type": "markdown",
   "metadata": {},
   "source": [
    "## Probabilities"
   ]
  },
  {
   "cell_type": "code",
   "execution_count": 66,
   "metadata": {},
   "outputs": [],
   "source": [
    "def vectorPlus(vec1, vec2):\n",
    "    return [vec1[0] + vec2[0], vec1[1] + vec2[1]]\n",
    "\n",
    "def vectorMinus(vec1, vec2):\n",
    "    return [vec1[0] - vec2[0], vec1[1] - vec2[1]]\n",
    "\n",
    "def normCalc(vec):\n",
    "    return (vec[0] ** 2) + (vec[1] ** 2)"
   ]
  },
  {
   "cell_type": "markdown",
   "metadata": {},
   "source": [
    "## acceptance probabilities for measurement of ancilla in |0> or |1>"
   ]
  },
  {
   "cell_type": "code",
   "execution_count": 67,
   "metadata": {},
   "outputs": [
    {
     "name": "stdout",
     "output_type": "stream",
     "text": [
      "Pr(alpha=0)\ttheory = 0.250\tqml = 0.245\n",
      "Pr(alpha=1)\ttheory = 0.750\tqml = 0.755\n",
      "sum\t\ttheory = 1.000\tqml = 1.000\n"
     ]
    }
   ],
   "source": [
    "def probCalculator(testVector):\n",
    "    PrAlpha0Theory = (normCalc(vectorPlus(testVector, x0)) + normCalc(vectorPlus(testVector, x1))) / (4 * 2)\n",
    "    PrAlpha1Theory = (normCalc(vectorMinus(testVector, x0)) + normCalc(vectorMinus(testVector, x1))) / (4 * 2)\n",
    "\n",
    "    PrAlpha0QML = sum([qmlCounts[_] for _ in qmlProbabilities if _[3] == '0'])\n",
    "    PrAlpha1QML = sum([qmlCounts[_] for _ in qmlProbabilities if _[3] == '1'])\n",
    "\n",
    "    print('Pr(alpha=0)\\ttheory = %.3f\\tqml = %.3f' % (PrAlpha0Theory, PrAlpha0QML))\n",
    "    print('Pr(alpha=1)\\ttheory = %.3f\\tqml = %.3f' % (PrAlpha1Theory, PrAlpha1QML))\n",
    "    print('sum\\t\\ttheory = %.3f\\tqml = %.3f' % (PrAlpha0Theory + PrAlpha1Theory, PrAlpha0QML + PrAlpha1QML))\n",
    "    \n",
    "    return PrAlpha0QML, PrAlpha1QML\n",
    "    \n",
    "PrAlpha0QML, PrAlpha1QML = probCalculator(xprime)\n",
    "# PrAlpha0QML, PrAlpha1QML = probCalculator(xprime2)\n",
    "# PrAlpha0QML, PrAlpha1QML = probCalculator(xprime3)\n",
    "# PrAlpha0QML, PrAlpha1QML = probCalculator(xprime4)\n",
    "# PrAlpha0QML, PrAlpha1QML = probCalculator(xprime5)"
   ]
  },
  {
   "cell_type": "code",
   "execution_count": 68,
   "metadata": {},
   "outputs": [
    {
     "name": "stdout",
     "output_type": "stream",
     "text": [
      "Ancilla = |0>\n",
      "Pr(class = 0) = 0.145 ; Pr(class = 1) = 0.875 ; sum = 1.019\n"
     ]
    }
   ],
   "source": [
    "def classPredictorAncilla0(testVector):\n",
    "    probAncilla0Class0 = 1 / (4 * 2 * PrAlpha0QML) * (normCalc(vectorPlus(testVector, x0)))\n",
    "    probAncilla0Class1 = 1 / (4 * 2 * PrAlpha0QML) * (normCalc(vectorPlus(testVector, x1)))\n",
    "    print('Ancilla = |0>\\nPr(class = 0) = %.3f ; Pr(class = 1) = %.3f ; sum = %.3f' % \n",
    "          (probAncilla0Class0, probAncilla0Class1, probAncilla0Class0 + probAncilla0Class1))\n",
    "    \n",
    "classPredictorAncilla0(xprime)\n",
    "#classPredictorAncilla0(xprime2)\n",
    "# classPredictorAncilla0(xprime3)\n",
    "# classPredictorAncilla0(xprime4)\n",
    "# classPredictorAncilla0(xprime5)"
   ]
  },
  {
   "cell_type": "code",
   "execution_count": 58,
   "metadata": {},
   "outputs": [
    {
     "data": {
      "text/plain": [
       "OrderedDict([('0000', 0.0398),\n",
       "             ('0001', 0.0388),\n",
       "             ('0100', 0.4202),\n",
       "             ('0101', 0.0036),\n",
       "             ('1010', 0.008),\n",
       "             ('1011', 0.2224),\n",
       "             ('1110', 0.2626),\n",
       "             ('1111', 0.0046)])"
      ]
     },
     "execution_count": 58,
     "metadata": {},
     "output_type": "execute_result"
    }
   ],
   "source": [
    "qmlProbabilities"
   ]
  },
  {
   "cell_type": "code",
   "execution_count": 49,
   "metadata": {},
   "outputs": [
    {
     "data": {
      "text/plain": [
       "{'1110': 0.2658,\n",
       " '0101': 0.0036,\n",
       " '1111': 0.0062,\n",
       " '1011': 0.2182,\n",
       " '0000': 0.0432,\n",
       " '0001': 0.0398,\n",
       " '0100': 0.4168,\n",
       " '1010': 0.0064}"
      ]
     },
     "execution_count": 49,
     "metadata": {},
     "output_type": "execute_result"
    }
   ],
   "source": [
    "qmlCounts"
   ]
  },
  {
   "cell_type": "code",
   "execution_count": null,
   "metadata": {},
   "outputs": [],
   "source": []
  }
 ],
 "metadata": {
  "kernelspec": {
   "display_name": "Python 3",
   "language": "python",
   "name": "python3"
  },
  "language_info": {
   "codemirror_mode": {
    "name": "ipython",
    "version": 3
   },
   "file_extension": ".py",
   "mimetype": "text/x-python",
   "name": "python",
   "nbconvert_exporter": "python",
   "pygments_lexer": "ipython3",
   "version": "3.6.5"
  }
 },
 "nbformat": 4,
 "nbformat_minor": 2
}
