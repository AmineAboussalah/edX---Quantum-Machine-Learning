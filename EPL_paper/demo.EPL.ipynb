{
 "cells": [
  {
   "cell_type": "code",
   "execution_count": 2,
   "metadata": {},
   "outputs": [],
   "source": [
    "from qiskit import QuantumCircuit, QuantumRegister, ClassicalRegister, execute, BasicAer\n",
    "from qiskit.tools.visualization import circuit_drawer\n",
    "import numpy as np\n",
    "import pandas as pd\n",
    "pd.options.display.max_rows = 200\n",
    "import matplotlib.pyplot as plt\n",
    "from collections import OrderedDict\n",
    "from sklearn import datasets\n",
    "from sklearn.preprocessing import normalize, StandardScaler"
   ]
  },
  {
   "cell_type": "markdown",
   "metadata": {},
   "source": [
    "## Iris dataset\n",
    "\n",
    "Introduced by famous British statistician **Sir Ronald Fisher** (known as one of the founders of population genetics).\n",
    "\n",
    "<td> <img src=\"figures/fisher.png\" alt=\"Drawing\" style=\"width: 250px;\"/> </td>\n",
    "\n",
    "Dataset presented in 1936 paper *\"The use of multiple measurements in taxonomic problems\"*.  Edgar Anderson collected 50 samples from each of three species of Iris (Iris setosa, Iris virginica and Iris versicolor). Four features were measured from each sample: the length and the width of the sepals and petals, in centimeters. Based on the combination of these four features, Fisher developed a linear discriminant model to distinguish the species from each other.\n",
    "\n",
    "<table><tr>\n",
    "<td> <img src=\"figures/iris.png\" alt=\"Drawing\" style=\"width: 250px;\"/> </td>\n",
    "<td> <img src=\"figures/versicolor.png\" alt=\"Drawing\" style=\"width: 250px;\"/> </td>\n",
    "<td> <img src=\"figures/virginica.png\" alt=\"Drawing\" style=\"width: 250px;\"/> </td>\n",
    "</tr></table>\n"
   ]
  },
  {
   "cell_type": "code",
   "execution_count": 3,
   "metadata": {},
   "outputs": [],
   "source": [
    "iris = datasets.load_iris()"
   ]
  },
  {
   "cell_type": "code",
   "execution_count": 4,
   "metadata": {},
   "outputs": [],
   "source": [
    "irisData = pd.DataFrame({_[0]: iris.data[:, _[1]] for _ in zip(iris.feature_names, range(len(iris.feature_names)))})\n",
    "labelNames = {_[0]: _[1] for _ in zip(range(len(iris.target_names)), iris.target_names)}\n",
    "irisData['label'] = [labelNames[_] for _ in iris.target]"
   ]
  },
  {
   "cell_type": "code",
   "execution_count": 5,
   "metadata": {},
   "outputs": [],
   "source": [
    "setosa = irisData[irisData['label'] == 'setosa']\n",
    "versicolor = irisData[irisData['label'] == 'versicolor']\n",
    "virginica = irisData[irisData['label'] == 'virginica']"
   ]
  },
  {
   "cell_type": "code",
   "execution_count": 6,
   "metadata": {},
   "outputs": [
    {
     "data": {
      "image/png": "[encoded data removed]",
      "text/plain": [
       "<Figure size 432x288 with 1 Axes>"
      ]
     },
     "metadata": {
      "needs_background": "light"
     },
     "output_type": "display_data"
    }
   ],
   "source": [
    "fig, ax = plt.subplots()\n",
    "ax.scatter(versicolor['sepal length (cm)'], versicolor['sepal width (cm)'], color='b')\n",
    "ax.scatter(setosa['sepal length (cm)'], setosa['sepal width (cm)'], color='r')\n",
    "ax.set_xlim([-1, 8]); ax.set_ylim([-1, 5]); ax.set_aspect('equal')"
   ]
  },
  {
   "cell_type": "code",
   "execution_count": 7,
   "metadata": {},
   "outputs": [],
   "source": [
    "selectedData = irisData[irisData['label'].isin(['versicolor', 'setosa'])]\n",
    "selectedData = selectedData[['sepal length (cm)', 'sepal width (cm)', 'label']]\n",
    "\n",
    "scaler = StandardScaler().fit(selectedData[['sepal length (cm)', 'sepal width (cm)']])\n",
    "normalizedData = scaler.transform(selectedData[['sepal length (cm)', 'sepal width (cm)']])\n",
    "normalizedData = normalize(normalizedData)\n",
    "\n",
    "normalizedData = pd.DataFrame({'sepal length (cm)': normalizedData[:, 0],\n",
    "                               'sepal width (cm)': normalizedData[:, 1],\n",
    "                               'label': selectedData['label']})"
   ]
  },
  {
   "cell_type": "code",
   "execution_count": 8,
   "metadata": {},
   "outputs": [],
   "source": [
    "normVersicolor = normalizedData[normalizedData['label'] == 'versicolor']\n",
    "normSetosa = normalizedData[normalizedData['label'] == 'setosa']"
   ]
  },
  {
   "cell_type": "code",
   "execution_count": 9,
   "metadata": {},
   "outputs": [
    {
     "data": {
      "image/png": "[encoded data removed]",
      "text/plain": [
       "<Figure size 432x288 with 1 Axes>"
      ]
     },
     "metadata": {
      "needs_background": "light"
     },
     "output_type": "display_data"
    }
   ],
   "source": [
    "fig, ax = plt.subplots()\n",
    "ax.scatter(normVersicolor['sepal length (cm)'], normVersicolor['sepal width (cm)'], color='b')\n",
    "ax.scatter(normSetosa['sepal length (cm)'], normSetosa['sepal width (cm)'], color='r')\n",
    "ax.set_xlim([-1.3, 1.3]); ax.set_ylim([-1.3, 1.3]); ax.set_aspect('equal')"
   ]
  },
  {
   "cell_type": "markdown",
   "metadata": {},
   "source": [
    "## Samples selected in the EPL article"
   ]
  },
  {
   "cell_type": "code",
   "execution_count": 10,
   "metadata": {},
   "outputs": [
    {
     "data": {
      "text/html": [
       "<div>\n",
       "<style scoped>\n",
       "    .dataframe tbody tr th:only-of-type {\n",
       "        vertical-align: middle;\n",
       "    }\n",
       "\n",
       "    .dataframe tbody tr th {\n",
       "        vertical-align: top;\n",
       "    }\n",
       "\n",
       "    .dataframe thead th {\n",
       "        text-align: right;\n",
       "    }\n",
       "</style>\n",
       "<table border=\"1\" class=\"dataframe\">\n",
       "  <thead>\n",
       "    <tr style=\"text-align: right;\">\n",
       "      <th></th>\n",
       "      <th>sepal length (cm)</th>\n",
       "      <th>sepal width (cm)</th>\n",
       "      <th>label</th>\n",
       "    </tr>\n",
       "  </thead>\n",
       "  <tbody>\n",
       "    <tr>\n",
       "      <th>33</th>\n",
       "      <td>0.019647</td>\n",
       "      <td>0.999807</td>\n",
       "      <td>setosa</td>\n",
       "    </tr>\n",
       "    <tr>\n",
       "      <th>85</th>\n",
       "      <td>0.795134</td>\n",
       "      <td>0.606434</td>\n",
       "      <td>versicolor</td>\n",
       "    </tr>\n",
       "    <tr>\n",
       "      <th>28</th>\n",
       "      <td>-0.557585</td>\n",
       "      <td>0.830120</td>\n",
       "      <td>setosa</td>\n",
       "    </tr>\n",
       "    <tr>\n",
       "      <th>55</th>\n",
       "      <td>0.496113</td>\n",
       "      <td>-0.868258</td>\n",
       "      <td>versicolor</td>\n",
       "    </tr>\n",
       "  </tbody>\n",
       "</table>\n",
       "</div>"
      ],
      "text/plain": [
       "    sepal length (cm)  sepal width (cm)       label\n",
       "33           0.019647          0.999807      setosa\n",
       "85           0.795134          0.606434  versicolor\n",
       "28          -0.557585          0.830120      setosa\n",
       "55           0.496113         -0.868258  versicolor"
      ]
     },
     "execution_count": 10,
     "metadata": {},
     "output_type": "execute_result"
    }
   ],
   "source": [
    "normalizedData.iloc[[33, 85, 28, 55]]"
   ]
  },
  {
   "cell_type": "markdown",
   "metadata": {},
   "source": [
    "# Nearset neighbor classifier\n",
    "\n",
    "We are using 2 training vectors:\n",
    "$$\n",
    "\\begin{align}\n",
    "x_0 = (0.019647, 0.999807) \\quad & y_0 = 0 \\quad (\\text{setosa}) \\\\\n",
    "x_1 = (0.795134, 0.606434) \\quad & y_1 = 1 \\quad (\\text{versicolor})\n",
    "\\end{align}\n",
    "$$\n",
    "\n",
    "and we look for (euclidean distance) nearest neighbor to a new vector $x^\\prime$.  In other words, classificication is achieved by\n",
    "\n",
    "<img src=\"figures/classifier.png\" alt=\"Drawing\" style=\"width: 600px;\"/> </td>\n",
    "\n",
    "**(Epanechnikov kernel)**"
   ]
  },
  {
   "cell_type": "code",
   "execution_count": 11,
   "metadata": {},
   "outputs": [],
   "source": [
    "x0 = [0.019647, 0.999807]      # class 0\n",
    "x1 = [0.795134, 0.606434]      # class 1\n",
    "\n",
    "xprime = [-0.557585, 0.830120] # suppposed to be in class 0\n",
    "#xprime = [0.496113, -0.868258] # suppposed to be in class 1"
   ]
  },
  {
   "cell_type": "markdown",
   "metadata": {},
   "source": [
    "## Initializing the quantum circuit"
   ]
  },
  {
   "cell_type": "code",
   "execution_count": 12,
   "metadata": {},
   "outputs": [],
   "source": [
    "numbQubits = 4\n",
    "q, c = QuantumRegister(numbQubits), ClassicalRegister(numbQubits)\n",
    "circuit = QuantumCircuit(q, c)"
   ]
  },
  {
   "cell_type": "markdown",
   "metadata": {},
   "source": [
    "## State preparation"
   ]
  },
  {
   "cell_type": "code",
   "execution_count": 13,
   "metadata": {},
   "outputs": [
    {
     "data": {
      "text/plain": [
       "<qiskit.extensions.standard.cx.CnotGate at 0x129f3ea90>"
      ]
     },
     "execution_count": 13,
     "metadata": {},
     "output_type": "execute_result"
    }
   ],
   "source": [
    "theta1 = np.arctan2(x1[1], x1[0])                 # angles for state encoding\n",
    "thetaPrime = 2 * np.arctan2(xprime[1], xprime[0]) # angles for state encoding\n",
    "\n",
    "circuit.h(q[0])\n",
    "circuit.h(q[1])\n",
    "\n",
    "circuit.cu3(thetaPrime, 0, 0, q[0], q[2])\n",
    "\n",
    "circuit.x(q[0])\n",
    "circuit.ccx(q[0], q[1], q[2])\n",
    "circuit.x(q[1])\n",
    "circuit.ccx(q[0], q[1], q[2])\n",
    "\n",
    "circuit.cu3(- theta1, 0, 0, q[1], q[2])\n",
    "circuit.ccx(q[0], q[1], q[2])\n",
    "circuit.cu3(theta1, 0, 0, q[1], q[2])\n",
    "\n",
    "circuit.cx(q[1], q[3])"
   ]
  },
  {
   "cell_type": "markdown",
   "metadata": {},
   "source": [
    "At this stage we have achieved the following state preparation\n",
    "\n",
    "<img src=\"figures/statePrep.png\" alt=\"Two magnets\" style=\"width: 800px;\"/>\n",
    "\n",
    "## The algorithm: a single Hadamard gate"
   ]
  },
  {
   "cell_type": "code",
   "execution_count": 14,
   "metadata": {},
   "outputs": [
    {
     "data": {
      "text/plain": [
       "<qiskit.circuit.instructionset.InstructionSet at 0x129ef5b70>"
      ]
     },
     "execution_count": 14,
     "metadata": {},
     "output_type": "execute_result"
    }
   ],
   "source": [
    "circuit.h(q[0])\n",
    "\n",
    "circuit.measure(q, c)"
   ]
  },
  {
   "cell_type": "markdown",
   "metadata": {},
   "source": [
    "Thanks to the Hadamar gate we have now a superposed state defined by:\n",
    "\n",
    "<img src=\"figures/afterHadamard.png\" alt=\"Two magnets\" style=\"width: 800px;\"/>\n",
    "<img src=\"figures/notation.png\" alt=\"Two magnets\" style=\"width: 400px;\"/>\n",
    "\n",
    "## Visualizing the circuit"
   ]
  },
  {
   "cell_type": "code",
   "execution_count": 15,
   "metadata": {},
   "outputs": [
    {
     "name": "stderr",
     "output_type": "stream",
     "text": [
      "/Users/i335439/Desktop/QML/venv/lib/python3.6/site-packages/qiskit/tools/visualization/_circuit_visualization.py:206: DeprecationWarning: The current behavior for the default output will change in a future release. Instead of trying latex and falling back to mpl on failure it will just use \"text\" by default\n",
      "  '\"text\" by default', DeprecationWarning)\n",
      "WARNING Unable to compile latex. The output from the pdflatex command can be found in latex_error.log\n"
     ]
    },
    {
     "data": {
      "image/png": "[encoded data removed]",
      "text/plain": [
       "<Figure size 1264.2x499.66 with 1 Axes>"
      ]
     },
     "execution_count": 15,
     "metadata": {},
     "output_type": "execute_result"
    }
   ],
   "source": [
    "circuit_drawer(circuit)"
   ]
  },
  {
   "cell_type": "markdown",
   "metadata": {},
   "source": [
    "## Execute on quantum computer\n",
    "\n",
    "\n",
    "<table><tr>\n",
    "<td> <img src=\"figures/ibmWide.png\" alt=\"Drawing\" style=\"width: 400px;\"/> </td>\n",
    "<td> <img src=\"figures/chip.png\" alt=\"Drawing\" style=\"width: 250px;\"/> </td>\n",
    "</tr></table>"
   ]
  },
  {
   "cell_type": "code",
   "execution_count": 17,
   "metadata": {},
   "outputs": [
    {
     "data": {
      "text/plain": [
       "{'1111': 6,\n",
       " '0001': 30,\n",
       " '1010': 6,\n",
       " '0000': 23,\n",
       " '1110': 279,\n",
       " '1011': 249,\n",
       " '0100': 403,\n",
       " '0101': 4}"
      ]
     },
     "execution_count": 17,
     "metadata": {},
     "output_type": "execute_result"
    }
   ],
   "source": [
    "shots = 1000\n",
    "\n",
    "qmlResult = execute(circuit, backend = BasicAer.get_backend('qasm_simulator'), shots = shots)\n",
    "qmlCounts = qmlResult.result().get_counts(circuit)\n",
    "\n",
    "qmlCounts"
   ]
  },
  {
   "cell_type": "markdown",
   "metadata": {},
   "source": [
    "## Conditional measurement predicated to value of ancilla qubit"
   ]
  },
  {
   "cell_type": "code",
   "execution_count": 18,
   "metadata": {},
   "outputs": [
    {
     "data": {
      "text/plain": [
       "{'1010': 6, '0000': 23, '1110': 279, '0100': 403}"
      ]
     },
     "execution_count": 18,
     "metadata": {},
     "output_type": "execute_result"
    }
   ],
   "source": [
    "conditionalCounts = {_: qmlCounts[_] for _ in qmlCounts.keys() if _[3] == '0'}\n",
    "\n",
    "conditionalCounts"
   ]
  },
  {
   "cell_type": "markdown",
   "metadata": {},
   "source": [
    "<img src=\"figures/final.png\" alt=\"Two magnets\" style=\"width: 800px;\"/>"
   ]
  },
  {
   "cell_type": "code",
   "execution_count": 19,
   "metadata": {},
   "outputs": [
    {
     "name": "stdout",
     "output_type": "stream",
     "text": [
      "True\n"
     ]
    }
   ],
   "source": [
    "class0Counts = [qmlCounts[_] for _ in conditionalCounts if _[2] == '0']\n",
    "class1Counts = [qmlCounts[_] for _ in conditionalCounts if _[2] == '1']\n",
    "\n",
    "print(class0Counts > class1Counts)"
   ]
  },
  {
   "cell_type": "markdown",
   "metadata": {},
   "source": [
    "### confirming that the class of the sample is indeed correctly predicted"
   ]
  }
 ],
 "metadata": {
  "kernelspec": {
   "display_name": "Python 3",
   "language": "python",
   "name": "python3"
  },
  "language_info": {
   "codemirror_mode": {
    "name": "ipython",
    "version": 3
   },
   "file_extension": ".py",
   "mimetype": "text/x-python",
   "name": "python",
   "nbconvert_exporter": "python",
   "pygments_lexer": "ipython3",
   "version": "3.6.5"
  }
 },
 "nbformat": 4,
 "nbformat_minor": 2
}
