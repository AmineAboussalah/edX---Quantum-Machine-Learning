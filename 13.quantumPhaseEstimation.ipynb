{
 "cells": [
  {
   "cell_type": "markdown",
   "metadata": {},
   "source": [
    "# Introduction\n",
    "\n",
    "The quantum Fourier transform and quantum phase estimation provide the foundation for many quantum algorithms, including the quantum matrix inversion, which is extensively used in quantum machine learning. It is therefore worthwhile developing a good understanding of these building blocks before moving on to more complex algorithms.\n",
    "\n",
    "We must emphasize that starting with this notebook, the algorithms presented are **coherent quantum protocols**. By that, we mean that the **input and output of an algorithm is a quantum state** that we do not have classical information about. The protocol itself might use measurements: in this sense, they are not fully coherent, since we gain some, but incomplete classical information about the quantum system. We might also perform post-selection, which means that a gate is controlled by the classical output of a measurement. In some cases, we entirely discard a calculation based on a measurement output.\n",
    "\n",
    "Why does it matter that we begin and end up with quantum states? Can't we just use state preparation starting from classical data and then perform tomography on the final state? We could do that, but **state preparation and tomography are resource-intensive and they are likely to destroy any quantum advantage**.\n",
    "\n",
    "An additional problem is that the quantum Fourier transformation and other quantum algorithms similar in complexity require a very large number of gates on a large number of high-quality qubits. This is why the **practical relevance of these algorithms is not immediate**.\n",
    "\n",
    "Nevertheless, since they are the core of many quantum machine learning protocols it is essential that we take a look at them."
   ]
  },
  {
   "cell_type": "code",
   "execution_count": 2,
   "metadata": {},
   "outputs": [],
   "source": [
    "import numpy as np\n",
    "from qiskit import QuantumCircuit, ClassicalRegister, QuantumRegister, execute, BasicAer\n",
    "\n",
    "π = np.pi"
   ]
  },
  {
   "cell_type": "markdown",
   "metadata": {},
   "source": [
    "# Quantum Fourier Transform\n",
    "\n",
    "The quantum Fourier transform is a quantum algorithm for the discrete Fourier transform over the amplitudes of a wavefunction. The exposition here follows the introduction in [[1](#1)]. A similar approach can be found in the [Qiskit tutorials](https://github.com/Qiskit/qiskit-tutorials/blob/master/community/algorithms/shor_algorithm.ipynb).\n",
    "\n",
    "The **classical discrete Fourier transform** acts on a vector $\\vec{x}=\\begin{bmatrix}x_0\\\\ \\vdots\\\\ x_{N-1}\\end{bmatrix}$ and maps it to the vector $\\vec{y}=\\begin{bmatrix}y_0\\\\ \\vdots\\\\ y_{N-1}\\end{bmatrix}$, where $y_k = \\frac{1}{\\sqrt{N}}\\sum_{j=0}^{N-1}x_je^{ 2\\pi i \\frac{jk}{N}}$. \n",
    "\n",
    "\n",
    "The **quantum Fourier transform** acts on an amplitude-encoded variant of this vector, the quantum state $|x\\rangle=\\sum_{i=0}^{N-1} x_i |i \\rangle$ and maps it to the quantum state $|y\\rangle=\\sum_{k=0}^{N-1} y_k |k \\rangle$, where $y_k = \\frac{1}{\\sqrt{N}}\\sum_{j=0}^{N-1}x_je^{ 2\\pi i \\frac{jk}{N}}$. Since the transformed state is also in the superposition of the computational basis, in essence, only the amplitudes are transformed.\n",
    "\n",
    "\n",
    "The quantum Fourier transform can be approximately implemented for any N. However, the implementation for the case where N is a power of 2 is much simpler.  To derive a circuit for $N=2^n$, consider the transform acts on the state \n",
    "\n",
    "$$| x \\rangle = | x_1 \\rangle \\otimes \\cdots \\otimes |x_n \\rangle = | x_1...x_n \\rangle$$\n",
    "\n",
    "where $x_1$ is the **most significant bit** (unlike the usual convention followed in the course) and $|x_j\\rangle$ indicates that qubit $j$ is in state $x_j \\in \\{0,1\\}$. We will rewrite a real number $x$ belonging to the unit interval in fractional binary notation as\n",
    "\n",
    "$$x = \\lfloor 0.x_1 \\cdots x_n \\rfloor = \\sum_{k=1}^n \\dfrac{x_k}{2^k}$$\n",
    "\n",
    "The action of the unitary describing the QFT transform on a quantum state $|x\\rangle$ can be expanded as\n",
    "\n",
    "<img src=\"figures/qft.png\" alt=\"qft\" style=\"width: 800px;\"/>\n",
    "\n",
    "which can be expanded as:\n",
    "\n",
    "<img src=\"figures/qft.2.png\" alt=\"qft\" style=\"width: 1200px;\"/>\n",
    "\n",
    "This expression as a decomposed tensor product state of $n$ single-qubit operations shows that only one qubit depends on the values of all the other input qubits.  The remaining qubits depend less and less on the input qubits. This simple structure allows us to design a quantum circuit based on Hadamard gates and rotations. \n",
    "\n",
    "In general the circuit can be represented as:\n",
    "\n",
    "<img src=\"figures/qft.circuit.png\" alt=\"qft\" style=\"width: 800px;\"/>"
   ]
  },
  {
   "cell_type": "markdown",
   "metadata": {},
   "source": [
    "On three qubits, we can define the circuit as follows:"
   ]
  },
  {
   "cell_type": "code",
   "execution_count": 3,
   "metadata": {},
   "outputs": [],
   "source": [
    "q = QuantumRegister(3, 'q')\n",
    "c = ClassicalRegister(1, 'c')\n",
    "\n",
    "qft = QuantumCircuit(q, c)\n",
    "\n",
    "qft.h(q[0])\n",
    "qft.cu1(π/2, q[1], q[0])\n",
    "qft.h(q[1])\n",
    "qft.cu1(π/4, q[2], q[0])\n",
    "qft.cu1(π/2, q[2], q[1])\n",
    "qft.h(q[2]);"
   ]
  },
  {
   "cell_type": "code",
   "execution_count": 5,
   "metadata": {},
   "outputs": [
    {
     "name": "stderr",
     "output_type": "stream",
     "text": [
      "/Users/i335439/Desktop/QML/venv/lib/python3.6/site-packages/qiskit/tools/visualization/_circuit_visualization.py:206: DeprecationWarning: The current behavior for the default output will change in a future release. Instead of trying latex and falling back to mpl on failure it will just use \"text\" by default\n",
      "  '\"text\" by default', DeprecationWarning)\n",
      "WARNING Unable to compile latex. The output from the pdflatex command can be found in latex_error.log\n"
     ]
    },
    {
     "data": {
      "image/png": "[encoded data removed]",
      "text/plain": [
       "<Figure size 541.8x258.86 with 1 Axes>"
      ]
     },
     "execution_count": 5,
     "metadata": {},
     "output_type": "execute_result"
    }
   ],
   "source": [
    "from qiskit.tools.visualization import circuit_drawer\n",
    "circuit_drawer(qft)"
   ]
  },
  {
   "cell_type": "markdown",
   "metadata": {},
   "source": [
    "# Quantum phase estimation\n",
    "\n",
    "The goal of a quantum phase estimation algorithm is, given a unitary operator $U$ and an eigenvector $|\\psi\\rangle$ of $U$, to estimate $\\theta$ in  $U|\\psi \\rangle =e^{2 i \\pi \\theta}|\\psi \\rangle$. Since $U$ is unitary, all of its eigenvalues have an absolute value of 1. By convention, $\\theta$ is taken to be in $[0,1[$ and is called the *phase* of $U$ associated to $|\\psi\\rangle$\n",
    "\n",
    "The eigenvector $|\\psi\\rangle$ is encoded in one set of quantum registers. An additional set of $n$ qubits forms an ancilla register. At the end of the procedure, this ancilla register should contain an approximation of the [binary fraction](https://www.electronics-tutorials.ws/binary/binary-fractions.html) associated to $\\theta$, with n-bits precision. A critical element is the ability to perform the controlled unitary $C-U^{2^k}$ -- it is usually assumed to be provided to the phase estimation protocol.\n",
    "\n",
    "First, the uniform superposition is prepared in the ancilla register via the application of Hadamard gates $H$. These qubits will act as controls for the unitary operators at different time steps. Our goal is to create a superposition of $U$ as the unitary is applied for different durations. Since the eigenvalues are always situated on the complex unit circle, these differently evolved components in the superposition help reveal the eigenstructure. Given the ancilla register we have a superposition of all possible time steps between $0$ and $2^{n-1}$, we will end up with a superposition of all possible evolutions to encode binary representations of the eigenvalues. At the end of this procedure, we have the state \n",
    "\n",
    "\\begin{equation}\n",
    "\\frac {1}{2^{n/2}} \\left( |0\\rangle+{e^{2 i \\pi \\theta \\cdot 2^{n-1}}}|1\\rangle \\right) \\otimes \\cdots \\otimes \\left(|0\\rangle+{e^{2 i \\pi \\theta \\cdot 2^{1}}}|1\\rangle \\right) \\otimes \\left(|0\\rangle+{e^{2i \\pi \\theta \\cdot 2^{0}}}|1\\rangle \\right) = \\frac {1}{2^{n/2}}\\sum _{k=0}^{2^{n}-1}e^{2 i \\pi \\theta k}|k\\rangle\n",
    "\\end{equation}\n",
    "\n",
    "in the ancilla. To write the ancilla in this form, we exploit that the controlled unitary operations when applied, introduce a global phase, and it is this global phase that we see in the ancilla. This phenomenon is also known as the **phase kickback**.\n",
    "\n",
    "As a final step, we apply an inverse Fourier transform on the ancilla. Measuring out in the computational basis, we get the phase in the ancilla register:\n",
    "\n",
    "\\begin{align}\n",
    "\\frac {1}{2^{\\frac {n}{2}}}\\sum _{k=0}^{2^{n}-1}e^{2i \\pi \\theta k}|k\\rangle \\otimes | \\psi \\rangle \\xrightarrow{\\mathcal{QFT}_n^{-1}} | \\tilde{\\theta} \\rangle \\otimes | \\psi \\rangle\n",
    "\\end{align}\n",
    "\n",
    "where $\\tilde{\\theta}$ is the n-bits approximation of the binary fraction representing $\\theta$.\n",
    "\n",
    "The circuit for phase estimation is the following:\n",
    "\n",
    "<img src=\"figures/phaseEstimation.png\" alt=\"qft\" style=\"width: 800px;\"/>\n",
    "\n",
    "## Toy example\n",
    "\n",
    "As a toy example, let's take the $2\\times 2$ unitary matrix $\\begin{bmatrix}e^{0} & 0 \\\\0 & e^{i \\pi}\\end{bmatrix}=\\begin{bmatrix}1 & 0 \\\\0 & -1\\end{bmatrix}$, which has the eigenvectors $|0\\rangle$ and $|1\\rangle$, and phases\n",
    "\n",
    "\\begin{aligned}\n",
    "\\theta_0 &= 0 \\\\\n",
    "\\theta_1 &=\\frac{1}{2}\n",
    "\\end{aligned}\n",
    "\n",
    "Therefore, the $C-U^{2^k}$ gate is a controlled-$Z$ gate for $k$ even and the identity for $k$ odd.\n",
    "\n",
    "## a) First eigenvector $|0\\rangle$\n",
    "\n",
    "Starting with $|\\psi\\rangle=|0\\rangle$ in the main register, we prepare the superposition in the ancilla:"
   ]
  },
  {
   "cell_type": "code",
   "execution_count": 6,
   "metadata": {},
   "outputs": [],
   "source": [
    "q = QuantumRegister(3, 'q')\n",
    "c = ClassicalRegister(2, 'c')\n",
    "\n",
    "qpe = QuantumCircuit(q, c)\n",
    "qpe.h(q[0])\n",
    "qpe.h(q[1]);"
   ]
  },
  {
   "cell_type": "code",
   "execution_count": 7,
   "metadata": {},
   "outputs": [],
   "source": [
    "# Controlled-U0\n",
    "qpe.cz(q[1], q[2]);\n",
    "# Controlled-U1\n",
    "# nothing: identity"
   ]
  },
  {
   "cell_type": "markdown",
   "metadata": {},
   "source": [
    "We apply quantum inverse Fourier transformation to write the phase to the ancilla register:"
   ]
  },
  {
   "cell_type": "code",
   "execution_count": 8,
   "metadata": {},
   "outputs": [],
   "source": [
    "qpe.swap(q[0], q[1])\n",
    "qpe.h(q[1])\n",
    "qpe.cu1(-π / 2, q[0], q[1])\n",
    "qpe.h(q[0])\n",
    "qpe.swap(q[0], q[1]);"
   ]
  },
  {
   "cell_type": "markdown",
   "metadata": {},
   "source": [
    "We will get the result from the two first registers"
   ]
  },
  {
   "cell_type": "code",
   "execution_count": 9,
   "metadata": {},
   "outputs": [],
   "source": [
    "qpe.measure(q[0], c[0])\n",
    "qpe.measure(q[1], c[1]);"
   ]
  },
  {
   "cell_type": "markdown",
   "metadata": {},
   "source": [
    "We can plot the circuit:"
   ]
  },
  {
   "cell_type": "code",
   "execution_count": 10,
   "metadata": {},
   "outputs": [
    {
     "name": "stderr",
     "output_type": "stream",
     "text": [
      "/Users/i335439/Desktop/QML/venv/lib/python3.6/site-packages/qiskit/tools/visualization/_circuit_visualization.py:206: DeprecationWarning: The current behavior for the default output will change in a future release. Instead of trying latex and falling back to mpl on failure it will just use \"text\" by default\n",
      "  '\"text\" by default', DeprecationWarning)\n",
      "WARNING Unable to compile latex. The output from the pdflatex command can be found in latex_error.log\n"
     ]
    },
    {
     "data": {
      "image/png": "[encoded data removed]",
      "text/plain": [
       "<Figure size 722.4x319.06 with 1 Axes>"
      ]
     },
     "execution_count": 10,
     "metadata": {},
     "output_type": "execute_result"
    }
   ],
   "source": [
    "circuit_drawer(qpe)"
   ]
  },
  {
   "cell_type": "markdown",
   "metadata": {},
   "source": [
    "Let's now test our circuit:"
   ]
  },
  {
   "cell_type": "code",
   "execution_count": 12,
   "metadata": {},
   "outputs": [
    {
     "data": {
      "text/plain": [
       "{'00': 1000}"
      ]
     },
     "execution_count": 12,
     "metadata": {},
     "output_type": "execute_result"
    }
   ],
   "source": [
    "backend = BasicAer.get_backend('qasm_simulator')\n",
    "job = execute(qpe, backend, shots=1000)\n",
    "result = job.result()\n",
    "result.get_counts(qpe)"
   ]
  },
  {
   "cell_type": "markdown",
   "metadata": {},
   "source": [
    "As expected the result is $|2 \\cdot \\theta_0\\rangle=|2\\cdot 0\\rangle=|00\\rangle$"
   ]
  },
  {
   "cell_type": "markdown",
   "metadata": {},
   "source": [
    "## b) Second eigenvector $|1\\rangle$"
   ]
  },
  {
   "cell_type": "code",
   "execution_count": 13,
   "metadata": {},
   "outputs": [
    {
     "data": {
      "text/plain": [
       "{'10': 1000}"
      ]
     },
     "execution_count": 13,
     "metadata": {},
     "output_type": "execute_result"
    }
   ],
   "source": [
    "qpe = QuantumCircuit(q, c)\n",
    "qpe.h(q[0])\n",
    "qpe.h(q[1])\n",
    "qpe.x(q[2]) # create |1> in the main register\n",
    "\n",
    "qpe.cz(q[1], q[2])\n",
    "\n",
    "qpe.swap(q[0], q[1])\n",
    "qpe.h(q[1])\n",
    "qpe.cu1(- π / 2, q[0], q[1])\n",
    "qpe.h(q[0])\n",
    "qpe.swap(q[0], q[1])\n",
    "\n",
    "qpe.measure(q[0], c[0])\n",
    "qpe.measure(q[1], c[1]);\n",
    "\n",
    "backend = BasicAer.get_backend('qasm_simulator')\n",
    "job = execute(qpe, backend, shots=1000)\n",
    "result = job.result()\n",
    "result.get_counts(qpe)"
   ]
  },
  {
   "cell_type": "markdown",
   "metadata": {},
   "source": [
    "The result should be $|10\\rangle$. Indeed, $10 \\rightarrow 1\\cdot 2^{-1} + 0 \\cdot 2^0=\\frac{1}{2}=\\theta_1$"
   ]
  }
 ],
 "metadata": {
  "kernelspec": {
   "display_name": "Python 3",
   "language": "python",
   "name": "python3"
  },
  "language_info": {
   "codemirror_mode": {
    "name": "ipython",
    "version": 3
   },
   "file_extension": ".py",
   "mimetype": "text/x-python",
   "name": "python",
   "nbconvert_exporter": "python",
   "pygments_lexer": "ipython3",
   "version": "3.6.5"
  }
 },
 "nbformat": 4,
 "nbformat_minor": 2
}
