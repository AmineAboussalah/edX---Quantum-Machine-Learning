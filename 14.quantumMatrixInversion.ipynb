{
 "cells": [
  {
   "cell_type": "markdown",
   "metadata": {},
   "source": [
    "# Introduction\n",
    "\n",
    "The [HHL algorithm](https://en.wikipedia.org/wiki/Quantum_algorithm_for_linear_systems_of_equations) underlies many quantum machine learning protocols, but it is a **highly nontrivial algorithm with lots of conditions**. In this notebook, we implement the algorithm to gain a better understanding of how it works and when it works efficiently.\n",
    "\n",
    "(*The notebook is derived from the [computational appendix](https://gitlab.com/apozas/bayesian-dl-quantum) of the paper [Bayesian Deep Learning on a Quantum Computer](https://arxiv.org/abs/1806.11463). We restrict our attention to inverting a $2\\times 2$ matrix, following Pan et al's implementation [[1](#1)] of the algorithm.*)"
   ]
  },
  {
   "cell_type": "code",
   "execution_count": 2,
   "metadata": {},
   "outputs": [],
   "source": [
    "import numpy as np\n",
    "from qiskit import QuantumCircuit, ClassicalRegister, QuantumRegister, execute, BasicAer\n",
    "\n",
    "π = np.pi"
   ]
  },
  {
   "cell_type": "markdown",
   "metadata": {},
   "source": [
    "# Setting up the problem\n",
    "\n",
    "The objective is to solve the linear equation $Ax=b$ with $A = \\frac{1}{2}\\begin{bmatrix}3 & 1 \\\\1 & 3 \\\\ \\end{bmatrix}$ and $b =\\begin{bmatrix} 1 \\\\ 0 \\\\ \\end{bmatrix}$. \n",
    "\n",
    "### Classical solution\n",
    "\n",
    "In order to be prepared for the following, let us start by solving this equation using \"traditional\" techniques..."
   ]
  },
  {
   "cell_type": "code",
   "execution_count": 3,
   "metadata": {},
   "outputs": [
    {
     "name": "stdout",
     "output_type": "stream",
     "text": [
      "(normalized) solution is [ 0.9486833  -0.31622777]\n"
     ]
    }
   ],
   "source": [
    "A = 0.5 * np.array([[3, 1], [1, 3]])\n",
    "b = np.array([1, 0])\n",
    "\n",
    "x = np.linalg.solve(A, b)\n",
    "x /= np.linalg.norm(x)\n",
    "\n",
    "print('(normalized) solution is %s' % x)"
   ]
  },
  {
   "cell_type": "markdown",
   "metadata": {},
   "source": [
    "We see that the expected solution to this linear equation is $\\approx 0.949 |0 \\rangle - 0.316 |1\\rangle$."
   ]
  },
  {
   "cell_type": "markdown",
   "metadata": {},
   "source": [
    "### Solving using HHL on a quantum computer\n",
    "\n",
    "We will encode the $A$ matrix as a Hamiltonian and $b$ in a register. With ancillas, we will need a total of four qubits and one classical register for post-selection. We add an extra qubit and extra classical register to create a swap test to compare our result to the ideal state."
   ]
  },
  {
   "cell_type": "code",
   "execution_count": 4,
   "metadata": {},
   "outputs": [],
   "source": [
    "q = QuantumRegister(6)\n",
    "c = ClassicalRegister(2)\n",
    "hhl = QuantumCircuit(q, c)"
   ]
  },
  {
   "cell_type": "markdown",
   "metadata": {},
   "source": [
    "The vector $b$ can be (amplitude) encoded as $\\left|b\\right\\rangle = \\sum_{i=0}^N b_i\\left|i\\right\\rangle = \\left|0\\right\\rangle$, so no explicit state preparation circuit is needed for this case (this will not be true in general).\n",
    "\n",
    "# Eigenvalue (phase) estimation\n",
    "\n",
    "The next step is to encode the eigenvalues of the matrix $A$ in an additional register. This is done via quantum phase estimation of the evolution described by the Hamiltonian $A$ during some time $t_0$, $\\exp(i A t_0)$. The protocol has three steps.\n",
    "\n",
    "- First we prepare the ancilla state $\\left|\\psi_0\\right\\rangle=\\sum_{\\tau=0}^{T-1}\\left|\\tau\\right\\rangle$. Why this state? It will control the time evolution: it is **like a clock turning on evolution for a certain amount of time**. The original HHL algorithm suggests a weighted superposition of all states $\\tau$ that minimizes errors in following steps in the algorithm. However, for our implementation, a uniform superposition already gives good results.\n",
    "\n",
    "\n",
    "- Our goal is to **create a superposition of $A$ as a Hamiltonian applied for different durations**. Since the eigenvalues are always situated on the complex unit circle, these differently evolved components in the superposition help reveal the eigenstructure. So we apply the conditional Hamiltonian evolution\n",
    "\n",
    "$$\\sum_{\\tau=0}^{T-1}\\left|\\tau\\right\\rangle\\left\\langle\\tau\\right|\\otimes e^{i A\\tau t_0/T} \\quad \\text{on} \\quad \\left|\\psi_0\\right\\rangle\\otimes\\left|b\\right\\rangle$$\n",
    "\n",
    "**This operation evolves the state $\\left|b\\right\\rangle$ according to the Hamiltonian $A$ for the time $\\tau$ determined by the state $\\left|\\psi_0\\right\\rangle$**. Given that in $\\left|\\psi_0\\right\\rangle$ we have a superposition of all possible time steps between $0$ and $T$, we will end up with a superposition of all possible evolutions, and a suitable choice of number of timesteps $T$ and total evolution time $t_0$ allow to encode binary representations of the eigenvalues.\n",
    "\n",
    "\n",
    "- As a final step, we apply an inverse Fourier transformation that writes the phases (that, recall, encode the eigenvalues of $A$) into new registers.\n",
    "\n",
    "The total circuit for phase estimation was shown in the previous notebook.\n",
    "\n",
    "In our $2\\times 2$ case, the circuit is massively simplified. **Cheating a little more**: Given that the matrix $A$ has eigenvalues that are powers of $2$, we can choose $T=4$ and $t_0=2\\pi$ to obtain exact results with just two controlled evolutions."
   ]
  },
  {
   "cell_type": "code",
   "execution_count": 5,
   "metadata": {},
   "outputs": [],
   "source": [
    "# Superposition\n",
    "hhl.h(q[1])\n",
    "hhl.h(q[2])\n",
    "\n",
    "# Controlled-U0\n",
    "hhl.cu3(-π / 2, -π / 2, π / 2, q[2], q[3])\n",
    "hhl.cu1(3 * π / 4, q[2], q[3])\n",
    "hhl.cx(q[2], q[3])\n",
    "hhl.cu1(3 * π / 4, q[2], q[3])\n",
    "hhl.cx(q[2], q[3])\n",
    "\n",
    "# Controlled-U1\n",
    "hhl.cx(q[1], q[3]);"
   ]
  },
  {
   "cell_type": "markdown",
   "metadata": {},
   "source": [
    "We apply quantum inverse Fourier transformation to write the phase to a register:"
   ]
  },
  {
   "cell_type": "code",
   "execution_count": 6,
   "metadata": {},
   "outputs": [],
   "source": [
    "hhl.swap(q[1], q[2])\n",
    "hhl.h(q[2])\n",
    "hhl.cu1(-π / 2, q[1], q[2])\n",
    "hhl.h(q[1]);"
   ]
  },
  {
   "cell_type": "markdown",
   "metadata": {},
   "source": [
    "The state of the system after this decomposition is approximately $\\sum _{j{\\mathop {=}}1}^{N}\\beta _{j}\\left|u_{j}\\right\\rangle \\left|\\lambda_{j}\\right\\rangle$, where $\\left|b\\right\\rangle=\\sum _{j{\\mathop {=}}1}^{N}\\beta _{j}\\left|u_{j}\\right\\rangle$ is the encoding of the vector $b$ in the eigenbasis of $A$. \n",
    "\n",
    "Now, there is an often overlooked step that performs bit operations on $\\left|\\lambda_{j}\\right\\rangle$ to actually invert it.\n",
    "\n",
    "**Is it another cheat?** In our case, the inversion of the eigenvalues is easy. The eigenvalues of $A$ are $\\lambda_1=2=10_2$ and $\\lambda_2=1=01_2$, and their reciprocals are $\\lambda_1^{-1}=1/2$ and $\\lambda_2^{-1}=1$. Noting that $2\\lambda_1^{-1}=01_2$ and $2\\lambda_2^{-1}=10_2$, a swap gate is enough to obtain the state $\\sum _{j{\\mathop {=}}1}^{N}\\beta _{j}\\left|u_{j}\\right\\rangle \\left|2\\lambda _{j}^{-1}\\right\\rangle$, that encodes the reciprocals of the eigenvalues."
   ]
  },
  {
   "cell_type": "code",
   "execution_count": 7,
   "metadata": {},
   "outputs": [],
   "source": [
    "hhl.swap(q[1], q[2]);"
   ]
  },
  {
   "cell_type": "markdown",
   "metadata": {},
   "source": [
    "# Conditional rotation of ancilla\n",
    "\n",
    "Next, we perform a conditional rotation to encode the information of the reciprocals of the eigenvalues in the amplitudes of a state, on which we will later post-select. The state we would like to get is \n",
    "\n",
    "$$\\sum _{j{\\mathop {=}}1}^{N}\\beta _{j}\\left|u_{j}\\right\\rangle\\left|2\\lambda _{j}^{-1}\\right\\rangle \\left(\\sqrt{1-\\frac{C^2}{\\lambda_j^2}}\\left|0\\right\\rangle+\\frac{C}{\\lambda_j}\\left|1\\right\\rangle \\right)$$\n",
    "\n",
    "This is achieved by controlled rotations in the same spirit of the conditional Hamiltonian evolution."
   ]
  },
  {
   "cell_type": "code",
   "execution_count": 8,
   "metadata": {},
   "outputs": [],
   "source": [
    "hhl.cu3(0.392699, 0, 0, q[1], q[0])  # Controlled-RY0\n",
    "hhl.cu3(0.19634955, 0, 0, q[2], q[0]);  # Controlled-RY1"
   ]
  },
  {
   "cell_type": "markdown",
   "metadata": {},
   "source": [
    "*Where these numbers come has been the source of questions in the online comments...*"
   ]
  },
  {
   "cell_type": "markdown",
   "metadata": {},
   "source": [
    "# Uncomputing the eigenvalue register\n",
    "\n",
    "A necessary step when performing quantum computations is to uncompute all operations except those that store the information that we want to obtain from the algorithm in the final registers. We need to do this in case the registers are entangled, which would affect the results.\n",
    "\n",
    "In our case, we must uncompute the phase estimation protocol. After the uncomputation, the state should be\n",
    "\n",
    "$$\\sum_{j=1}^N\\beta_j\\left|u_j\\right\\rangle\\left|0\\right\\rangle\\left(\\sqrt{1-\\frac{C^2}{\\lambda_j^2}}\\left|0\\right\\rangle+\\frac{C}{\\lambda_j}\\left|1\\right\\rangle \\right)$$\n",
    "\n",
    "so we can safely forget about the eigenvalue register."
   ]
  },
  {
   "cell_type": "code",
   "execution_count": 9,
   "metadata": {},
   "outputs": [],
   "source": [
    "hhl.swap(q[1], q[2])\n",
    "hhl.h(q[1])\n",
    "hhl.cu1(π / 2, q[1], q[2])  # Inverse(Dagger(Controlled-S))\n",
    "hhl.h(q[2])\n",
    "hhl.swap(q[2], q[1])\n",
    "\n",
    "# Inverse(Controlled-U1)\n",
    "hhl.cx(q[1], q[3])\n",
    "\n",
    "# Inverse(Controlled-U0)\n",
    "hhl.cx(q[2], q[3])\n",
    "hhl.cu1(-3 * π / 4, q[2], q[3])\n",
    "hhl.cx(q[2], q[3])\n",
    "hhl.cu1(-3 * π / 4, q[2], q[3])\n",
    "hhl.cu3(-π / 2, π / 2, -π / 2, q[2], q[3])\n",
    "\n",
    "# End of Inverse(Controlled-U0)\n",
    "hhl.h(q[2])\n",
    "hhl.h(q[1]);"
   ]
  },
  {
   "cell_type": "markdown",
   "metadata": {},
   "source": [
    "# Rejection sampling on the ancilla register and a swap test\n",
    "\n",
    "The state\n",
    "\n",
    "$$\\left|x\\right\\rangle=A^{-1}\\left|b\\right\\rangle\\propto\\sum_j \\beta_j\\lambda_j^{-1}\\left|u_j\\right\\rangle$$\n",
    "\n",
    "that contains information about the solution to $Ax=b$ is that obtained when measuring $|1\\rangle$ on the ancilla state. We perform the post-selection by projecting onto the desired $\\left|1\\right\\rangle$. To check that the solution is the expected one, we prepare the correct output state manually to perform a swap test with the outcome."
   ]
  },
  {
   "cell_type": "code",
   "execution_count": 10,
   "metadata": {},
   "outputs": [],
   "source": [
    "# Target state preparation\n",
    "hhl.rz(-π, q[4])\n",
    "hhl.u1(π, q[4])\n",
    "hhl.h(q[4])\n",
    "hhl.ry(-0.9311623288419387, q[4])\n",
    "hhl.rz(π, q[4]);"
   ]
  },
  {
   "cell_type": "markdown",
   "metadata": {},
   "source": [
    "It is a good exercise to check that the right result is given by the state $\\left|x\\right\\rangle=0.949\\left|0\\right\\rangle + 0.314\\left|1\\right\\rangle$, which is the state we prepare above."
   ]
  },
  {
   "cell_type": "code",
   "execution_count": 11,
   "metadata": {},
   "outputs": [
    {
     "data": {
      "text/plain": [
       "array([ 0.94929297+0.j, -0.31439284+0.j])"
      ]
     },
     "execution_count": 11,
     "metadata": {},
     "output_type": "execute_result"
    }
   ],
   "source": [
    "def verifExpectedState():\n",
    "    q, c = QuantumRegister(1), ClassicalRegister(1)\n",
    "    circuit = QuantumCircuit(q, c)\n",
    "    circuit.rz(-π, q[0])\n",
    "    circuit.u1(π, q[0])\n",
    "    circuit.h(q[0])\n",
    "    circuit.ry(-0.9311623288419387, q[0])\n",
    "    circuit.rz(π, q[0])\n",
    "\n",
    "    backend_statevector = BasicAer.get_backend('statevector_simulator')\n",
    "    job = execute(circuit, backend_statevector)\n",
    "    return job.result().get_statevector(circuit)\n",
    "\n",
    "verifExpectedState()"
   ]
  },
  {
   "cell_type": "markdown",
   "metadata": {},
   "source": [
    "This confirms that the target state with which we are going to compare the output of the ``hhl`` circuit is indeed $\\approx 0.949 |0\\rangle - 0.314|1\\rangle$ in accordance with what we had previously found in the classical solution at the beginning of the notebook.\n",
    "\n",
    "Next, using this prepared state that we know to be the exact solution, we compare it to the outcome of our ``hhl`` circuit using a ``swap test``.   **Swap tests can be used to test two unknown pure states for equality**.  Given two states $|\\psi \\rangle$ and $|\\psi^\\prime \\rangle$ a swap test circuit returns the overlap $|\\langle \\psi | \\psi^\\prime \\rangle|^2$.\n",
    "\n",
    "\n",
    "\n",
    "In other words, we **cannot extract the solution from the quantum circuit but only verify** (assuming that we have already solved the problem some other way) that the state is indeed the expected one."
   ]
  },
  {
   "cell_type": "code",
   "execution_count": 12,
   "metadata": {},
   "outputs": [],
   "source": [
    "# Swap test\n",
    "hhl.h(q[5])\n",
    "hhl.cx(q[4], q[3])\n",
    "hhl.ccx(q[5], q[3], q[4])\n",
    "hhl.cx(q[4], q[3])\n",
    "hhl.h(q[5])\n",
    "\n",
    "# Final measurements\n",
    "hhl.barrier(q)\n",
    "hhl.measure(q[0], c[0])\n",
    "hhl.measure(q[5], c[1]);"
   ]
  },
  {
   "cell_type": "markdown",
   "metadata": {},
   "source": [
    "There are two measurements performed, one of the ancilla register (for doing the post-selection) and another one that gives the result of the swap test."
   ]
  },
  {
   "cell_type": "code",
   "execution_count": 13,
   "metadata": {},
   "outputs": [],
   "source": [
    "def get_psuccess(counts):\n",
    "    succ_rotation_fail_swap = counts['11'] if '11' in counts.keys() else 0\n",
    "    succ_rotation_succ_swap = counts['01']\n",
    "    \n",
    "    succ_rotation = succ_rotation_succ_swap + succ_rotation_fail_swap\n",
    "    return succ_rotation_succ_swap / succ_rotation"
   ]
  },
  {
   "cell_type": "markdown",
   "metadata": {},
   "source": [
    "Finally we run the circuit on the simulator:"
   ]
  },
  {
   "cell_type": "code",
   "execution_count": 14,
   "metadata": {},
   "outputs": [
    {
     "data": {
      "text/plain": [
       "{'00': 985, '01': 15}"
      ]
     },
     "execution_count": 14,
     "metadata": {},
     "output_type": "execute_result"
    }
   ],
   "source": [
    "backend = BasicAer.get_backend('qasm_simulator')\n",
    "job = execute(hhl, backend, shots=1000)\n",
    "result = job.result()\n",
    "counts = result.get_counts(hhl)\n",
    "\n",
    "counts"
   ]
  },
  {
   "cell_type": "markdown",
   "metadata": {},
   "source": [
    "This concludes our demonstration that the ``hhl`` circuit designed above indeed revovers the expected solution to the linear equation."
   ]
  },
  {
   "cell_type": "code",
   "execution_count": 15,
   "metadata": {},
   "outputs": [
    {
     "data": {
      "text/plain": [
       "1.0"
      ]
     },
     "execution_count": 15,
     "metadata": {},
     "output_type": "execute_result"
    }
   ],
   "source": [
    "get_psuccess(counts)"
   ]
  }
 ],
 "metadata": {
  "kernelspec": {
   "display_name": "Python 3",
   "language": "python",
   "name": "python3"
  },
  "language_info": {
   "codemirror_mode": {
    "name": "ipython",
    "version": 3
   },
   "file_extension": ".py",
   "mimetype": "text/x-python",
   "name": "python",
   "nbconvert_exporter": "python",
   "pygments_lexer": "ipython3",
   "version": "3.6.5"
  }
 },
 "nbformat": 4,
 "nbformat_minor": 2
}
