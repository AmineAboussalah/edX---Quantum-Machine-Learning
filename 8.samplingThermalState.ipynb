{
 "cells": [
  {
   "cell_type": "code",
   "execution_count": 2,
   "metadata": {},
   "outputs": [],
   "source": [
    "import itertools\n",
    "import matplotlib.pyplot as plt\n",
    "import numpy as np\n",
    "import dimod\n",
    "np.set_printoptions(precision=7, suppress=True)\n",
    "from functools import reduce, partial\n",
    "from scipy.optimize import minimize\n",
    "\n",
    "from qiskit import BasicAer, QuantumRegister, QuantumCircuit, ClassicalRegister, execute\n",
    "from qiskit.quantum_info import Pauli\n",
    "from qiskit_aqua import get_aer_backend, QuantumInstance\n",
    "from qiskit_aqua.operator import Operator\n",
    "from qiskit_aqua.components.initial_states import Custom"
   ]
  },
  {
   "cell_type": "markdown",
   "metadata": {},
   "source": [
    "In the previous notebook, we showed how QAOA can approximate the ground state $|\\psi_0\\rangle$ of a many-body system characterized by a Hamiltonian $H$. We connected this problem to binary optimization in computer science in notebook 4, and used this connection to understand adiabatic quantum computing and variational algorithms.\n",
    "\n",
    "However, we also talked about the engineering constraints we face in real devices: the evolution in these devices is actually that of an open quantum system, where the quantum processing unit interacts with the environment. In that case, the ground state of $H$ won't be a pure state $|\\psi_0\\rangle$ but a density matrix $\\rho_0$\n",
    "\n",
    "\n",
    "The environment is defined by a temperature $T$, and if we let the system equilibrate, the QPU will become thermalized at temperature $T$. As we saw in the notebook on evolution in open and closed systems, the energy of the states will follow a Boltzmann distribution: $\\rho_0=\\frac{1}{Z} e^{-H/T}$ where $Z=\\text{Tr} \\, e^{-H/T}$ is a normalization factor (called *partition function*), ensuring that $\\text{Tr} \\, \\rho_0 = 1$. The inverse temperature $1/T$ is often denoted by $\\beta$ so the state can also be written as $\\rho_0=\\frac{1}{Z} e^{-\\beta H}$. \n",
    "\n",
    "If $H$ has a discrete basis of orthonormal eigenstates $\\{|n\\rangle\\}$ with eigenvalues $\\{E_n\\}$, we can write $H=\\sum_n E_n |n\\rangle \\langle n|$ and $\\rho_0=\\frac{1}{Z} \\sum_n e^{-E_n/T} |n\\rangle \\langle n|$ (since exponentiating a diagonal operator consists in exponentiating the elements of the diagonal). Hence, the thermal density matrix is a mixed state where each eigenstate of $H$ with energy $E$ has a classical probability $P(E)=\\frac{1}{Z} e^{-E/T}$, a Boltzmann distribution. We can see that the minimum energy eigenstate will have the highest probability. When $T \\rightarrow 0$, the minimum energy eigenstate will have a probability close to $1$. When $T \\rightarrow \\infty$, all the eigenstates tend to have equal probability.\n",
    "\n",
    "The question that arises now is: how to approximate this thermalized state $\\rho_0$ of the Hamiltonian $H$ using a quantum circuit? For pure ground states, there were two methods: quantum annealing and QAOA. We will see here that those two methods can be adjusted to also prepare thermalized density matrices.\n",
    "\n",
    "We will see later that we can use this preparation to train certain machine learning models.\n",
    "\n",
    "# Quantum annealing\n",
    "\n",
    "We are interested in the thermal state of the classical Ising model. We create a random model over ten spins and we will sample a hundred states."
   ]
  },
  {
   "cell_type": "code",
   "execution_count": 3,
   "metadata": {},
   "outputs": [
    {
     "name": "stdout",
     "output_type": "stream",
     "text": [
      "{0: 1.8288066517994648, 1: 1.280968283240111, 2: 1.500385954095318, 3: 1.4839186151258357, 4: 1.162647939108576, 5: 1.6654840667001114, 6: 0.15348564474727544, 7: 0.8750857448905367, 8: 0.6139225875200096, 9: -1.3982880875238095}\n"
     ]
    }
   ],
   "source": [
    "n_spins = 10\n",
    "\n",
    "h = {v: np.random.uniform(-2, 2) for v in range(n_spins)}\n",
    "J = {}\n",
    "\n",
    "allPermutations = list(itertools.combinations(h, 2))\n",
    "\n",
    "print(h)"
   ]
  },
  {
   "cell_type": "markdown",
   "metadata": {},
   "source": [
    "Now that we have random values for the individual spins, we can go over all the possible 2-spin permutations and, **with 5% probability**, assign a coupling value $J_{ij} = \\pm 1$"
   ]
  },
  {
   "cell_type": "code",
   "execution_count": 4,
   "metadata": {},
   "outputs": [
    {
     "name": "stdout",
     "output_type": "stream",
     "text": [
      "BinaryQuadraticModel({0: 1.8288066517994648, 1: 1.280968283240111, 2: 1.500385954095318, 3: 1.4839186151258357, 4: 1.162647939108576, 5: 1.6654840667001114, 6: 0.15348564474727544, 7: 0.8750857448905367, 8: 0.6139225875200096, 9: -1.3982880875238095}, {}, 0.0, Vartype.SPIN)\n"
     ]
    }
   ],
   "source": [
    "for i, j in allPermutations:\n",
    "    if np.random.random() < .01:\n",
    "        J[(i, j)] = np.random.uniform(-1, 1)\n",
    "\n",
    "model = dimod.BinaryQuadraticModel(h, J, 0.0, dimod.SPIN)\n",
    "sampler = dimod.SimulatedAnnealingSampler()\n",
    "\n",
    "print(model)"
   ]
  },
  {
   "cell_type": "markdown",
   "metadata": {},
   "source": [
    "Let's sample the energies at different temperatures. The `dimod` implementation of simulated annealing allows us to set an initial and final temperature for the annealing. If we set it to the same value, we mimic the effect of a finite temperature and we will have a wider range of configurations and energy levels in the samples."
   ]
  },
  {
   "cell_type": "code",
   "execution_count": 5,
   "metadata": {},
   "outputs": [],
   "source": [
    "n_samples = 1000\n",
    "\n",
    "def thermalSampler(T):\n",
    "    beta = 1 / T\n",
    "    response = sampler.sample(model, beta_range=[beta, beta], num_reads = n_samples)\n",
    "    return [{'sample': sample.sample, 'energy': sample.energy} for sample in response.data()]"
   ]
  },
  {
   "cell_type": "code",
   "execution_count": 6,
   "metadata": {},
   "outputs": [],
   "source": [
    "sampledData1 = thermalSampler(1)\n",
    "sampledData10 = thermalSampler(10)\n",
    "sampledData100 = thermalSampler(100)"
   ]
  },
  {
   "cell_type": "code",
   "execution_count": 7,
   "metadata": {},
   "outputs": [],
   "source": [
    "def verifEnergy(sampledData):\n",
    "    selectedSample = np.random.randint(0, n_samples)\n",
    "\n",
    "    individualSpins = sum([x * y for x, y in zip(h.values(), sampledData[selectedSample]['sample'].values())])\n",
    "\n",
    "    twoSpinCoupling = sum([J[(i, j)] * sampledData[selectedSample]['sample'][i] * sampledData[selectedSample]['sample'][j] \n",
    "                       for i, j in J])\n",
    "\n",
    "    totalEnergy = individualSpins + twoSpinCoupling\n",
    "    print('expected = %f\\tverification = %f' % (sampledData[selectedSample]['energy'], totalEnergy))"
   ]
  },
  {
   "cell_type": "markdown",
   "metadata": {},
   "source": [
    "In fact, one can explicitly verify the value of the energy of the samples:\n",
    "\n",
    "$$\n",
    "E(\\text{sample} \\, | \\, h, J) = \\sum_i h_i s_i + \\sum_{\\langle i,j\\rangle} J_{ij} s_i s_j\n",
    "$$\n",
    "\n",
    "as demonstrated in the cell below for a single random sample for the three temperature scales."
   ]
  },
  {
   "cell_type": "code",
   "execution_count": 8,
   "metadata": {},
   "outputs": [
    {
     "name": "stdout",
     "output_type": "stream",
     "text": [
      "expected = -11.656022\tverification = -11.656022\n",
      "expected = -2.324818\tverification = -2.324818\n",
      "expected = -1.108926\tverification = -1.108926\n"
     ]
    }
   ],
   "source": [
    "verifEnergy(sampledData1)\n",
    "verifEnergy(sampledData10)\n",
    "verifEnergy(sampledData100)"
   ]
  },
  {
   "cell_type": "markdown",
   "metadata": {},
   "source": [
    "Finally, we can plot the distribution of energies according to the three different temperature scales:"
   ]
  },
  {
   "cell_type": "code",
   "execution_count": 9,
   "metadata": {},
   "outputs": [],
   "source": [
    "def plot_probabilities(energy_samples, temperatures):\n",
    "    fig, ax = plt.subplots()\n",
    "    for i, (energies, T) in enumerate(zip(energy_samples, temperatures)):\n",
    "        probabilities = np.exp(-np.array(sorted(energies))/T)\n",
    "        Z = probabilities.sum()\n",
    "        probabilities /= Z\n",
    "        ax.plot(energies, probabilities, linewidth=3, label = \"$T_\" + str(i+1)+\"$\")\n",
    "    minimum_energy = min([min(energies) for energies in energy_samples])\n",
    "    maximum_energy = max([max(energies) for energies in energy_samples])\n",
    "    ax.set_xlim(minimum_energy, maximum_energy)\n",
    "    ax.set_xticks([]); ax.set_yticks([])\n",
    "    ax.set_xlabel('Energy'); ax.set_ylabel('Probability'); ax.legend()\n",
    "    plt.show()"
   ]
  },
  {
   "cell_type": "code",
   "execution_count": 10,
   "metadata": {},
   "outputs": [
    {
     "data": {
      "image/png": "[encoded data removed]",
      "text/plain": [
       "<Figure size 432x288 with 1 Axes>"
      ]
     },
     "metadata": {},
     "output_type": "display_data"
    }
   ],
   "source": [
    "energies1   = [sampledData['energy'] for sampledData in sampledData1]\n",
    "energies10  = [sampledData['energy'] for sampledData in sampledData10]\n",
    "energies100 = [sampledData['energy'] for sampledData in sampledData100]\n",
    "\n",
    "plot_probabilities([energies1, energies10, energies100], [1, 10, 100])"
   ]
  },
  {
   "cell_type": "markdown",
   "metadata": {},
   "source": [
    "As explained in the introduction, the probabilities follow a Boltzmann distribution which flattens out at a high temperature. On the other hand, the exponetial shape is more visible at low temperatures where we do not even have samples for high-energy states."
   ]
  },
  {
   "cell_type": "markdown",
   "metadata": {},
   "source": [
    "# Quantum Approximate Thermalization\n",
    "\n",
    "There are many results for preparing a thermal state on a gate-model quantum computer, but most of them need a large-scale device. More recently, a protocol for approximating thermalization was developed using shallow circuits [[1](#1)]. The idea is that if we knew that the thermal state was a pure state $\\psi$ (which means $\\rho=|\\psi \\rangle \\langle \\psi |$), we could apply QAOA to get to the thermal state of a target Hamiltonian. Since QAOA approximates the adiabatic pathway, it should be a conservative change, so at the end of it, we would be close to the thermal state of the target Hamiltonian.\n",
    "\n",
    "To find the thermal state of the simple system, the trick is to purify $\\rho$ on a larger Hilbert space. If we call $\\mathcal{H_1}$ our current Hilbert space, purifying a density matrix $\\rho$ consists of finding a second Hilbert space $\\mathcal{H_2}$ such that there exists $| \\psi \\rangle \\in \\mathcal{H_1} \\otimes \\mathcal{H_2}$ such that $\\rho = \\textrm{Tr}_{\\mathcal{H_2}} \\left( |\\psi \\rangle \\langle \\psi | \\right)$, where $\\textrm{Tr}_{\\mathcal{H_2}}$ is the partial trace taken over the second Hilbert space -- in essence, we are marginalizing the probability distribution. This resembles the idea of what we showed in the notebook on measurements and mixed states: if we trace out a subsystem of the maximally entangled state $|\\phi^+\\rangle$, we get the maximally mixed state. The maximally mixed state is essentially a thermal state at infinite temperature.\n",
    "\n",
    "It can be shown that\n",
    "\n",
    "$$| \\psi \\rangle =\\sqrt{2 \\cosh 1/T} \\sum_{z \\in {-1,1}} e^{- z/T} |z \\rangle_{\\mathcal{H_1}} \\otimes | z \\rangle_{\\mathcal{H_2}}$$\n",
    "\n",
    "purifies $\\rho=\\frac{1}{Z}e^{- H_m/T}$ [[1](#1)], where $H_m$ is the mixing Hamiltonian in QAOA.\n",
    "\n",
    "This state can be built with a circuit composed uniquely of RX gates and CNOT gates.\n",
    "\n",
    "## High temperature\n",
    "\n",
    "We create an example system of two qubits that needs two extra qubits for purification. In this first example, we set $T=1000$."
   ]
  },
  {
   "cell_type": "code",
   "execution_count": 11,
   "metadata": {},
   "outputs": [],
   "source": [
    "n_qubits = 2\n",
    "n_system = n_qubits * 2\n",
    "T = 1000"
   ]
  },
  {
   "cell_type": "markdown",
   "metadata": {},
   "source": [
    "We define a simple Ising model with a weight matrix and set $p=1$ in QAOA."
   ]
  },
  {
   "cell_type": "code",
   "execution_count": 12,
   "metadata": {},
   "outputs": [],
   "source": [
    "weights = np.array([[0,1],[0,0]])\n",
    "p = 1"
   ]
  },
  {
   "cell_type": "markdown",
   "metadata": {},
   "source": [
    "Based on these parameters, we define the Ising Hamiltonian $H=\\sum W_{ij} \\sigma_i\\sigma_j$ (for the weight matrix defined above, $H=\\sigma_1 \\sigma_2$, whose minimum is reached when $\\sigma_1 \\neq \\sigma_2$)"
   ]
  },
  {
   "cell_type": "code",
   "execution_count": 13,
   "metadata": {},
   "outputs": [],
   "source": [
    "def pauli_z(qubit, coeff):\n",
    "    eye = np.eye((n_system))\n",
    "    return Operator([[coeff, Pauli(eye[qubit], np.zeros(n_system))]])\n",
    "\n",
    "def pauli_x(qubit, coeff):\n",
    "    eye = np.eye((n_qubits))\n",
    "    return Operator([[coeff, Pauli(np.zeros(n_qubits), eye[qubit])]])\n",
    "\n",
    "def product_pauli_z(q1, q2, coeff):\n",
    "    eye = np.eye((n_system))\n",
    "    return Operator([[coeff, Pauli(eye[q1], np.zeros(n_system)) * Pauli(eye[q2], np.zeros(n_system))]])\n",
    "\n",
    "def ising_hamiltonian(weights):\n",
    "    H = reduce(lambda x,y:x+y,\n",
    "            [product_pauli_z(i,j, -weights[i,j])\n",
    "             for (i,j) in itertools.product(range(n_qubits), range(n_qubits))])\n",
    "    H.to_matrix()\n",
    "    return H"
   ]
  },
  {
   "cell_type": "code",
   "execution_count": 14,
   "metadata": {},
   "outputs": [],
   "source": [
    "Hc = ising_hamiltonian(weights)"
   ]
  },
  {
   "cell_type": "markdown",
   "metadata": {},
   "source": [
    "We prepare the intial state\n",
    "\n",
    "$$|\\psi_0 \\rangle = \\sqrt{2 cosh(1/T)} \\sum_{z \\in {1, -1}} e^{- z/T} | z \\rangle_S \\otimes | z \\rangle_E$$\n",
    "\n",
    "with $E$ a temporary space used for purification purpose. It can be shown that tracing out this state over $E$ reproduces the state $\\rho \\propto e^{-H_m/T} $. We initialize the circuit first:"
   ]
  },
  {
   "cell_type": "code",
   "execution_count": 15,
   "metadata": {},
   "outputs": [],
   "source": [
    "qr, cr = QuantumRegister(n_system), ClassicalRegister(n_qubits)\n",
    "backend = BasicAer.get_backend('qasm_simulator')"
   ]
  },
  {
   "cell_type": "markdown",
   "metadata": {},
   "source": [
    "And we prepare the initial state $|\\psi_0 \\rangle$ (don't ask...):"
   ]
  },
  {
   "cell_type": "code",
   "execution_count": 16,
   "metadata": {},
   "outputs": [],
   "source": [
    "def prepare_init_state(T):\n",
    "    circuit_init = QuantumCircuit(qr, cr)\n",
    "    α = 2 * np.arctan(np.exp(- 1/(2*T)))\n",
    "    for i in range(n_qubits):\n",
    "        circuit_init.rx(α, qr[n_qubits+i])\n",
    "        circuit_init.cx(qr[n_qubits+i], qr[i])\n",
    "    return circuit_init"
   ]
  },
  {
   "cell_type": "markdown",
   "metadata": {},
   "source": [
    "We will now **reuse the QAOA implementation of the previous notebook**, with the above initial circuit appended to the regular variational circuit. Ideally, we would like to use the QAOA version implemented in Qiskit Aqua, but the current version does not allow to pass an initial circuit to QAOA (it's currently being implemented in the development version).  (Remember that the number of chunks is $p=1$)."
   ]
  },
  {
   "cell_type": "code",
   "execution_count": 17,
   "metadata": {},
   "outputs": [],
   "source": [
    "def evolve(hamiltonian, angle, quantum_registers):\n",
    "    return hamiltonian.evolve(None, angle, 'circuit', 1,\n",
    "                              quantum_registers=quantum_registers,\n",
    "                              expansion_mode='suzuki',\n",
    "                              expansion_order=3)\n",
    "\n",
    "def create_circuit(beta, gamma, circuit_init):\n",
    "    Hm = reduce(lambda x, y: x+y,\n",
    "            [pauli_x(i, 1) for i in range(n_qubits)])\n",
    "    Hm.to_matrix()\n",
    "    \n",
    "    circuit_evolv = reduce(lambda x,y: x+y, [evolve(Hc, beta[i], qr) + evolve(Hm, gamma[i], qr)\n",
    "                                             for i in range(p)])\n",
    "    \n",
    "    circuit = circuit_init + circuit_evolv\n",
    "    return circuit\n",
    "\n",
    "def evaluate_circuit(beta_gamma, circuit_init):\n",
    "    circuit = create_circuit(beta_gamma[:p], beta_gamma[p:], circuit_init)\n",
    "    return np.real(Hc.eval(\"matrix\", circuit, get_aer_backend('statevector_simulator'))[0])\n",
    "    \n",
    "def run_qaoa(circuit_init):\n",
    "    beta_init = np.random.uniform(0, np.pi*2, p)\n",
    "    gamma_init = np.random.uniform(0, np.pi*2, p)\n",
    "    evaluate = partial(evaluate_circuit, circuit_init=circuit_init)\n",
    "    result = minimize(evaluate, np.concatenate([beta_init, gamma_init]), method='L-BFGS-B')\n",
    "    \n",
    "    circuit = create_circuit(result['x'][:p], result['x'][p:], circuit_init)\n",
    "\n",
    "    return result[\"fun\"], circuit\n",
    "\n",
    "def get_thermal_state(T):\n",
    "    circuit_init = prepare_init_state(T)\n",
    "    return run_qaoa(circuit_init)"
   ]
  },
  {
   "cell_type": "markdown",
   "metadata": {},
   "source": [
    "We run the protocol to get the thermal state:"
   ]
  },
  {
   "cell_type": "code",
   "execution_count": 19,
   "metadata": {},
   "outputs": [
    {
     "name": "stdout",
     "output_type": "stream",
     "text": [
      "Result of QAOA -1.8120246536579288e-07\n"
     ]
    }
   ],
   "source": [
    "cost, thermal_state = get_thermal_state(T)\n",
    "print(\"Result of QAOA\", cost)"
   ]
  },
  {
   "cell_type": "markdown",
   "metadata": {},
   "source": [
    "Finally, we reformat the final results, measure out the result, and plot the energy distribution:"
   ]
  },
  {
   "cell_type": "code",
   "execution_count": 20,
   "metadata": {},
   "outputs": [],
   "source": [
    "def get_energy(spin_configuration):\n",
    "    x = spin_configuration.reshape(-1, 1)\n",
    "    return np.sum([[-weights[i,j] * x[i] * x[j] for j in range(n_qubits)] for i in range(n_qubits)])\n",
    "\n",
    "def get_energy_distribution(thermal_state):\n",
    "    for i in range(n_qubits):\n",
    "        thermal_state.measure(qr[i], cr[i])\n",
    "    \n",
    "    job = execute(thermal_state, backend, shots=5000)\n",
    "    results = job.result().get_counts(thermal_state)\n",
    "    \n",
    "    list_spin_configs = np.array(np.concatenate([[list(spin_config)] * results[spin_config] for spin_config in results]), dtype=\"int\")\n",
    "    list_spin_configs[list_spin_configs == 0] = -1\n",
    "    list_energy = np.array([get_energy(spin_config) for spin_config in list_spin_configs])\n",
    "    return list_energy"
   ]
  },
  {
   "cell_type": "code",
   "execution_count": 21,
   "metadata": {},
   "outputs": [
    {
     "data": {
      "image/png": "[encoded data removed]",
      "text/plain": [
       "<Figure size 432x288 with 1 Axes>"
      ]
     },
     "metadata": {
      "needs_background": "light"
     },
     "output_type": "display_data"
    }
   ],
   "source": [
    "list_energy = get_energy_distribution(thermal_state)\n",
    "hist = plt.hist(list_energy, density=True)"
   ]
  },
  {
   "cell_type": "markdown",
   "metadata": {},
   "source": [
    "The two eigenvalues, i.e. possible energies, of our Hamiltonian $H=\\sigma_1 \\sigma_2$ are $E=-1$ and $E=1$. At infinite temperature ($\\beta=0$), they should be assigned an equal probability, which is the case in the histogram above. \n",
    "\n",
    "Let's repeat the experiment for a wider range of temperature:"
   ]
  },
  {
   "cell_type": "code",
   "execution_count": 22,
   "metadata": {},
   "outputs": [],
   "source": [
    "def variableT(T):\n",
    "    cost, thermal_state = get_thermal_state(T)\n",
    "    list_energy = get_energy_distribution(thermal_state)\n",
    "    return {'T': T, 'counts': np.unique(list_energy, return_counts=True)}\n",
    "\n",
    "Trange = np.linspace(0.2, 1.5, 10)\n",
    "variableTResults = [variableT(T) for T in Trange]"
   ]
  },
  {
   "cell_type": "code",
   "execution_count": 23,
   "metadata": {},
   "outputs": [
    {
     "data": {
      "text/plain": [
       "Text(0, 0.5, 'E')"
      ]
     },
     "execution_count": 23,
     "metadata": {},
     "output_type": "execute_result"
    },
    {
     "data": {
      "image/png": "[encoded data removed]",
      "text/plain": [
       "<Figure size 432x288 with 1 Axes>"
      ]
     },
     "metadata": {
      "needs_background": "light"
     },
     "output_type": "display_data"
    }
   ],
   "source": [
    "countValues = [_['counts'][1][0]  for _ in variableTResults]\n",
    "\n",
    "plt.scatter(Trange, countValues, marker='*', s=90, c='r')\n",
    "plt.xlabel('T'); plt.ylabel('E')"
   ]
  },
  {
   "cell_type": "markdown",
   "metadata": {},
   "source": [
    "which indeed confirms the scaling accoring to **Boltzann distribution**."
   ]
  }
 ],
 "metadata": {
  "kernelspec": {
   "display_name": "Python 3",
   "language": "python",
   "name": "python3"
  },
  "language_info": {
   "codemirror_mode": {
    "name": "ipython",
    "version": 3
   },
   "file_extension": ".py",
   "mimetype": "text/x-python",
   "name": "python",
   "nbconvert_exporter": "python",
   "pygments_lexer": "ipython3",
   "version": "3.6.5"
  }
 },
 "nbformat": 4,
 "nbformat_minor": 2
}
